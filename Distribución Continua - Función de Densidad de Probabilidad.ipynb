{
 "cells": [
  {
   "cell_type": "markdown",
   "metadata": {},
   "source": [
    "<h1 style=\"color: #14549C\">Función de Densidad de Probabilidad</h1>   "
   ]
  },
  {
   "cell_type": "markdown",
   "metadata": {},
   "source": [
    "### Introducción\n",
    "<br>\n",
    "<div style=\"text-align:justify\">\n",
    "Una función de densidad de probabilidad, es una ecuación que nos permite calcular la probabilidad de que una variable aleatoria continua $X$ tome un determinado valor conociendo su funcion $f(x)$.    \n",
    "</div>"
   ]
  },
  {
   "cell_type": "markdown",
   "metadata": {},
   "source": [
    "### Definición.\n",
    "Dada una variable aleatoria continua $X$, se dice que es una función de densidad de probabilidad si y solo si:\n",
    "> <h3> $P(a\\leq x \\leq b) = \\int_a^b f(x) dx$ </h3>\n",
    ">\n",
    "> donde:\n",
    "- $a,b \\in \\mathbb{R}$"
   ]
  },
  {
   "cell_type": "markdown",
   "metadata": {},
   "source": [
    "### Propiedades\n",
    "- <h3>$f(x) \\geq 0$ </h3> (La función no puede tener valores o probabilidades negativas).\n",
    "- <h3>$ \\int_{-\\infty}^\\infty f(x) dx = 1$ </h3> (La área total debajo de la curva de $f(x)$ debe ser 1 (100%)."
   ]
  },
  {
   "cell_type": "markdown",
   "metadata": {},
   "source": [
    "### Media, Varianza y Desviación Estándar\n",
    ">  <h3> $\\mu = \\int_{-\\infty}^\\infty x \\cdot f(x) dx$ </h3>\n",
    "> <h3> $\\sigma^2 = \\int_{-\\infty}^\\infty (x-\\mu)^2 f(x) dx$ </h3>\n",
    ">  <h3> $\\sigma = \\sqrt{\\sigma^2}$ </h3>"
   ]
  },
  {
   "cell_type": "code",
   "execution_count": 3,
   "metadata": {},
   "outputs": [],
   "source": [
    "#Librerias usadas\n",
    "import matplotlib.pyplot as plt\n",
    "import numpy as np\n",
    "import scipy\n",
    "from scipy import integrate"
   ]
  },
  {
   "cell_type": "markdown",
   "metadata": {},
   "source": [
    "## Ejemplo 1\n",
    "En una estación de servicio al cliente, el tiempo de atención a cada cliente es una variable aleatoria con la siguiente función de densidad de probabilidad:\n",
    "> <h3> $f(x) \\Bigg\\{ \\begin{matrix} \\frac{2}{5}(x+2),& 0 \\leq x \\leq 1 \\\\ 0,& x<0 \\space \\And \\space x>1 \\end{matrix}$ </h3>"
   ]
  },
  {
   "cell_type": "markdown",
   "metadata": {},
   "source": [
    "###### 1. Verifique que cumple con las propiedades de una función de densidad"
   ]
  },
  {
   "cell_type": "markdown",
   "metadata": {},
   "source": [
    "> Dado que f(x) especifica que toma valores unicamente para $0 \\leq x \\leq 1$, se puede decir que cumple con la propiedad de que:\n",
    "> $f(x) \\geq 0$, no hay probabilidades negativas.\n",
    ">\n",
    "> Por la misma razon:\n",
    ">\n",
    "> $\\int_{-\\infty}^\\infty f(x) dx = \\int_{0}^1 \\frac{2}{5}(x+2) dx = ?$"
   ]
  },
  {
   "cell_type": "code",
   "execution_count": 4,
   "metadata": {},
   "outputs": [
    {
     "name": "stdout",
     "output_type": "stream",
     "text": [
      "El área total debajo de la curva de f(x) es: 1.0\n"
     ]
    }
   ],
   "source": [
    "#Función de densidad\n",
    "f = lambda x: (2/5)*(x+2)\n",
    "\n",
    "#integral de 0 a 1\n",
    "I = integrate.quad(f,0,1)\n",
    "print(\"El área total debajo de la curva de f(x) es:\",I[0])"
   ]
  },
  {
   "cell_type": "markdown",
   "metadata": {},
   "source": [
    "###### 2. Calcule la probabilidad de que el tiempo de atención sea de entre 15 y 30 minutos."
   ]
  },
  {
   "cell_type": "code",
   "execution_count": 6,
   "metadata": {},
   "outputs": [
    {
     "name": "stdout",
     "output_type": "stream",
     "text": [
      "La probabilidad de que el tiempo sea entre 15 y 30 mins es: 0.2375\n"
     ]
    }
   ],
   "source": [
    "\"\"\"Como una hora es igual a 1, 15 mins es 0.25 de hora y 30 mins 0.50 de hora.\"\"\"\n",
    "\n",
    "#integral de 0.25 a 0.50\n",
    "I = integrate.quad(f,0.25,0.50)\n",
    "print(\"La probabilidad de que el tiempo sea entre 15 y 30 mins es:\", round(I[0],5))"
   ]
  },
  {
   "cell_type": "markdown",
   "metadata": {},
   "source": [
    "###### 3. Grafica el área de la pregunta anterior"
   ]
  },
  {
   "cell_type": "code",
   "execution_count": 11,
   "metadata": {},
   "outputs": [
    {
     "data": {
      "image/png": "[encoded data removed]",
      "text/plain": [
       "<Figure size 720x432 with 1 Axes>"
      ]
     },
     "metadata": {},
     "output_type": "display_data"
    }
   ],
   "source": [
    "#Vector de valores para grafica\n",
    "a = np.linspace(0,1,1000)\n",
    "\n",
    "#Gráfica\n",
    "plt.figure(figsize=(10,6))\n",
    "plt.plot(a, f(a), color=\"orange\", label=\"f(x)\")\n",
    "plt.title(\"Función de Densidad\")\n",
    "plt.fill_between(a, f(a), where=[(a>0.25) and (a<0.5) for a in a], alpha=0.7, color=\"lightblue\", label=\"área bajo la curva\")\n",
    "plt.xlabel(\"x\")\n",
    "plt.ylabel(\"y\")\n",
    "plt.legend()\n",
    "plt.grid()\n",
    "plt.show()"
   ]
  },
  {
   "cell_type": "markdown",
   "metadata": {},
   "source": [
    "###### 4. Calcule y grafique la probabilidad de que el tiempo de atención sea de al menos 20 mins."
   ]
  },
  {
   "cell_type": "code",
   "execution_count": 12,
   "metadata": {},
   "outputs": [
    {
     "name": "stdout",
     "output_type": "stream",
     "text": [
      "La probabilidad de que el tiempo de antención sea de al menos 20 mins es: 0.832\n"
     ]
    }
   ],
   "source": [
    "# 20 mins equivale a 0.20 de 1 hora\n",
    "\n",
    "#integral de 0.20 a 1\n",
    "I = integrate.quad(f,0.20,1)\n",
    "print(\"La probabilidad de que el tiempo de antención sea de al menos 20 mins es:\", round(I[0],5))"
   ]
  },
  {
   "cell_type": "code",
   "execution_count": 13,
   "metadata": {},
   "outputs": [
    {
     "data": {
      "image/png": "[encoded data removed]",
      "text/plain": [
       "<Figure size 720x432 with 1 Axes>"
      ]
     },
     "metadata": {},
     "output_type": "display_data"
    }
   ],
   "source": [
    "plt.figure(figsize=(10,6))\n",
    "plt.plot(a, f(a), color=\"orange\", label=\"f(x)\")\n",
    "plt.title(\"Función de Densidad\")\n",
    "plt.fill_between(a, f(a), where=[(a>0.20) for a in a], alpha=0.7, color=\"lightblue\", label=\"área bajo la curva\")\n",
    "plt.xlabel(\"x\")\n",
    "plt.ylabel(\"y\")\n",
    "plt.legend()\n",
    "plt.grid()\n",
    "plt.show()"
   ]
  },
  {
   "cell_type": "markdown",
   "metadata": {},
   "source": [
    "## Ejemplo 2\n",
    "El tamaño en cm de cierto pez sigue una variable aleatoria continua con una función de densidad:\n",
    "> <h3> $f(x) \\Bigg\\{ \\begin{matrix} \\frac{x}{16},& 2 \\leq x \\leq 6 \\\\ 0,& x<2 \\space \\And \\space x>6 \\end{matrix}$ </h3>"
   ]
  },
  {
   "cell_type": "markdown",
   "metadata": {},
   "source": [
    "###### 1. Calcule la probabilidad de que el pez mida entre 3 y 5 cm."
   ]
  },
  {
   "cell_type": "markdown",
   "metadata": {},
   "source": [
    "> $\\int_{2}^6 \\frac{x}{16} dx$"
   ]
  },
  {
   "cell_type": "code",
   "execution_count": 14,
   "metadata": {},
   "outputs": [
    {
     "name": "stdout",
     "output_type": "stream",
     "text": [
      "La probabilidad de que el pez mida entre 3  y 5 cm es de: 0.5\n"
     ]
    }
   ],
   "source": [
    "#Función de densidad\n",
    "f = lambda x: x/16\n",
    "\n",
    "#Integral\n",
    "I = integrate.quad(f,3,5)\n",
    "print(\"La probabilidad de que el pez mida entre 3  y 5 cm es de:\", I[0])"
   ]
  },
  {
   "cell_type": "markdown",
   "metadata": {},
   "source": [
    "###### 2. Grafique el resultado"
   ]
  },
  {
   "cell_type": "code",
   "execution_count": 16,
   "metadata": {},
   "outputs": [
    {
     "data": {
      "image/png": "[encoded data removed]",
      "text/plain": [
       "<Figure size 720x432 with 1 Axes>"
      ]
     },
     "metadata": {},
     "output_type": "display_data"
    }
   ],
   "source": [
    "a = np.linspace(2,6,1000)\n",
    "\n",
    "plt.figure(figsize=(10,6))\n",
    "plt.plot(a, f(a), color=\"orange\", label=\"f(x)\")\n",
    "plt.title(\"Tamaño de los peces\")\n",
    "plt.fill_between(a, f(a), where=[(a>3) and (a<5) for a in a], alpha=0.7, color=\"lightblue\", label=\"área bajo la curva\")\n",
    "plt.xlabel(\"cm\")\n",
    "plt.ylabel(\"frecuencias\")\n",
    "plt.legend()\n",
    "plt.grid()\n",
    "plt.show()"
   ]
  },
  {
   "cell_type": "markdown",
   "metadata": {},
   "source": [
    "###### 3. Determina la media, varianza y desviación estándar."
   ]
  },
  {
   "cell_type": "markdown",
   "metadata": {},
   "source": [
    "> $\\mu = \\int_{2}^6 x \\cdot \\frac{x}{16} dx = \\int_{2}^6 \\frac{x^2}{16} dx$"
   ]
  },
  {
   "cell_type": "code",
   "execution_count": 20,
   "metadata": {
    "scrolled": true
   },
   "outputs": [
    {
     "name": "stdout",
     "output_type": "stream",
     "text": [
      "La media es de 4.33333 cm\n"
     ]
    }
   ],
   "source": [
    "#función de media\n",
    "fmu = lambda x: pow(x,2) / 16\n",
    "\n",
    "#integral\n",
    "mu = integrate.quad(fmu, 2, 6)\n",
    "\n",
    "print(\"La media es de\", round(mu[0],5), \"cm\")"
   ]
  },
  {
   "cell_type": "markdown",
   "metadata": {},
   "source": [
    "> $\\sigma^2 = \\int_{2}^6 (x-\\mu)^2 f(x) dx = \\int_{2}^6 (x-\\mu)^2 \\frac{x}{16} dx $"
   ]
  },
  {
   "cell_type": "code",
   "execution_count": 26,
   "metadata": {},
   "outputs": [
    {
     "name": "stdout",
     "output_type": "stream",
     "text": [
      "la varianza es: 1.22222\n",
      "la desviación estándar es: 1.10554\n"
     ]
    }
   ],
   "source": [
    "#función de varianza\n",
    "# mu = 4.33333... = 13/3\n",
    "fva = lambda x: pow(x-(13/3),2) * x/16\n",
    "\n",
    "#varianza\n",
    "var = integrate.quad(fva, 2, 6)\n",
    "print(\"la varianza es:\", round(var[0],5))\n",
    "\n",
    "#Desviación estandar\n",
    "std = np.sqrt(var)\n",
    "print(\"la desviación estándar es:\", round(std[0],5))"
   ]
  },
  {
   "cell_type": "markdown",
   "metadata": {},
   "source": [
    "### Fuentes:\n",
    "- Educatina (2015) Que es la función de densidad. Extraído el 11 de junio de 2020 de: https://www.youtube.com/watch?v=Q6ZbpyU1OYw\n",
    "- Rodriguez O. L. (2007) Función de Densidad de Probabilidad (Cap. 6). Probabilidad y Estadística Básica para Ingenieros. Instituto de Ciencia Matemáticas, Escuela Superior Politécnica Litoral. Guayaquil, Ecuador.\n",
    "- Scipy.org (2019) scipy.integrate.quad. Extraído el 11 de junio de 2020 de: https://docs.scipy.org/doc/scipy/reference/generated/scipy.integrate.quad.html"
   ]
  }
 ],
 "metadata": {
  "kernelspec": {
   "display_name": "Python 3",
   "language": "python",
   "name": "python3"
  },
  "language_info": {
   "codemirror_mode": {
    "name": "ipython",
    "version": 3
   },
   "file_extension": ".py",
   "mimetype": "text/x-python",
   "name": "python",
   "nbconvert_exporter": "python",
   "pygments_lexer": "ipython3",
   "version": "3.6.5"
  }
 },
 "nbformat": 4,
 "nbformat_minor": 2
}
