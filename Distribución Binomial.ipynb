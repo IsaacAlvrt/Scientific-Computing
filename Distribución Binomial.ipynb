{
 "cells": [
  {
   "cell_type": "markdown",
   "metadata": {},
   "source": [
    "<h1 style=\"color: #14549C\">Distribución Binomial</h1>"
   ]
  },
  {
   "cell_type": "markdown",
   "metadata": {},
   "source": [
    "### Introducción\n",
    "<br>\n",
    "<div style=\"text-align: justify\">\n",
    "El modelo de distribución binomial sirve para calcular la probabilidad de que variables aleatorias discretas (variables con números enteros) tomen determinados valores en ensayos que consisten en la observación de una secuencia de intentos idénticos e\n",
    "independientes, cada uno de los cuales puede resultar en una de dos salidas: éxito o fracaso.\n",
    "</div>"
   ]
  },
  {
   "cell_type": "markdown",
   "metadata": {},
   "source": [
    "### Propiedades:\n",
    " 1. Consiste en un número fijo, n, de pruebas idénticas.\n",
    " 2. Cada prueba resulta en uno de dos resultados: éxito o fracaso.\n",
    " 3. Dada una probabilidad de éxito, p, la probabilidad de fracaso, q, es igual a q = (1 – p).\n",
    " 4. Las pruebas son independientes.\n",
    " 5. La variable aleatoria de interés es X, el número de éxitos observado durante las n\n",
    "pruebas."
   ]
  },
  {
   "cell_type": "markdown",
   "metadata": {},
   "source": [
    "### Definición\n",
    "Se dice que una variable aleatoria $X$ tiene una distribución binomial basada en n pruebas\n",
    "con probabilidad p de éxito si y sólo si:\n",
    "> $ P(x)= {n \\choose x} p^x q^{n-x}$\n",
    ">\n",
    ">donde: \n",
    "- $ x \\in X $\n",
    "- $x \\in \\mathbb{Z}$\n",
    "- $ 0 \\leq p \\leq 1$"
   ]
  },
  {
   "cell_type": "markdown",
   "metadata": {},
   "source": [
    "###  Propiedades adicionales de las distribuciones binomiales"
   ]
  },
  {
   "cell_type": "markdown",
   "metadata": {},
   "source": [
    "| Propiedad | Ecuación / Fórmula | \n",
    "| --- | --- |\n",
    "| Media | $\\mu = np$ | \n",
    "| Varianza | $\\sigma^2 = npq$ | \n",
    "| Desviación Estandar | ${\\sigma} = {\\sqrt{npq}}$ |  "
   ]
  },
  {
   "cell_type": "code",
   "execution_count": 1,
   "metadata": {},
   "outputs": [],
   "source": [
    "#Librerias usadas\n",
    "import matplotlib.pyplot as plt\n",
    "import seaborn as sns\n",
    "import numpy as np\n",
    "import scipy"
   ]
  },
  {
   "cell_type": "markdown",
   "metadata": {},
   "source": [
    "## Ejemplo 1\n",
    "Suponga que un lote de 5000 fusibles eléctricos contiene 5% de piezas defectuosas. Si se prueba una muestra de 5 fusibles. \n",
    "###### 1. Encuentre la probabilidad de encontrar 2 fusibles defectuosos."
   ]
  },
  {
   "cell_type": "code",
   "execution_count": 2,
   "metadata": {
    "scrolled": true
   },
   "outputs": [
    {
     "name": "stdout",
     "output_type": "stream",
     "text": [
      "La probabilidad de hallar 2 fusibles defectuosos es: 0.02143\n"
     ]
    }
   ],
   "source": [
    "#Datos\n",
    "p = 0.05\n",
    "q = 1 - p\n",
    "x = 2\n",
    "n = 5\n",
    "\n",
    "#Cálculos\n",
    "Px = scipy.special.comb(n,x) * pow(p,x) * pow(q, n-x)\n",
    "\n",
    "#Resultado\n",
    "print(\"La probabilidad de hallar 2 fusibles defectuosos es:\", round(Px,5))"
   ]
  },
  {
   "cell_type": "markdown",
   "metadata": {},
   "source": [
    "> Alternativamente, los cálculos de la probabilidad para este problema con el modelo binomial se pueden hacer de la siguiente manera:"
   ]
  },
  {
   "cell_type": "code",
   "execution_count": 3,
   "metadata": {},
   "outputs": [
    {
     "name": "stdout",
     "output_type": "stream",
     "text": [
      "La probabilidad de hallar 2 fusibles defectuosos es: 0.02143\n"
     ]
    }
   ],
   "source": [
    "#pmf = Probability mass function.\n",
    "Px = scipy.stats.binom.pmf(x,n,p)\n",
    "print(\"La probabilidad de hallar 2 fusibles defectuosos es:\", round(Px,5))"
   ]
  },
  {
   "cell_type": "markdown",
   "metadata": {},
   "source": [
    "###### 2.  Ahora, encuentre la probabildiad de hallar al menos 1 fusible defectuoso"
   ]
  },
  {
   "cell_type": "markdown",
   "metadata": {},
   "source": [
    "> Nota. Este problema se resuelve recordando que:\n",
    ">\n",
    "> $P(X \\geq 1) = 1- P(X=0) $"
   ]
  },
  {
   "cell_type": "code",
   "execution_count": 4,
   "metadata": {},
   "outputs": [
    {
     "name": "stdout",
     "output_type": "stream",
     "text": [
      "La probabilidad de hallar al menos un fusible defectuoso es: 0.22622\n"
     ]
    }
   ],
   "source": [
    "#Ahora el valor de x cambia\n",
    "x = 0\n",
    "\n",
    "#Cáclulos\n",
    "Px = 1 - scipy.stats.binom.pmf(x,n,p)\n",
    "\n",
    "#Resultado\n",
    "print(\"La probabilidad de hallar al menos un fusible defectuoso es:\", round(Px,5))"
   ]
  },
  {
   "cell_type": "markdown",
   "metadata": {},
   "source": [
    "###### 3. Grafique la distribución binomial para el lote de 5000 unidades"
   ]
  },
  {
   "cell_type": "code",
   "execution_count": 5,
   "metadata": {
    "scrolled": false
   },
   "outputs": [
    {
     "name": "stderr",
     "output_type": "stream",
     "text": [
      "C:\\ProgramData\\Anaconda3\\lib\\site-packages\\matplotlib\\axes\\_axes.py:6462: UserWarning: The 'normed' kwarg is deprecated, and has been replaced by the 'density' kwarg.\n",
      "  warnings.warn(\"The 'normed' kwarg is deprecated, and has been \"\n"
     ]
    },
    {
     "data": {
      "image/png": "[encoded data removed]",
      "text/plain": [
       "<Figure size 576x432 with 1 Axes>"
      ]
     },
     "metadata": {},
     "output_type": "display_data"
    }
   ],
   "source": [
    "#rvs = Random variates\n",
    "binom = scipy.stats.binom.rvs(n=5, p=0.05,size=5000)\n",
    "\n",
    "#Gráfica\n",
    "plt.figure(figsize=(8,6))\n",
    "sns.distplot(binom, kde=False, color=\"darkblue\")\n",
    "plt.ylabel(\"Frecuencia\")\n",
    "plt.title(\"Distribución Binomial, $n=5, p = 5%$\")\n",
    "plt.grid()\n",
    "plt.show()"
   ]
  },
  {
   "cell_type": "markdown",
   "metadata": {},
   "source": [
    "## Ejemplo 2\n",
    "Se supone que el voluminoso lote de fusibles eléctricos del Ejemplo 1 contiene sólo 5% de defectuosos. Si n = 20 fusibles se muestrean al azar de este lote, encuentre la probabilidad de que se\n",
    "observen al menos cuatro defectuosos."
   ]
  },
  {
   "cell_type": "markdown",
   "metadata": {},
   "source": [
    "> $P(X \\geq 4) = P(X=4) + P(X=5)+ ... + P(X=20) = \\sum_{i=4}^{20} P(X=i)$\n",
    ">\n",
    "> Como la suma es demasiado grande, podemos recordar que:\n",
    ">\n",
    "> $P(X \\geq 4) = 1 - P(X \\leq 3)$\n",
    ">\n",
    ">\n",
    ">Por lo tanto:\n",
    ">\n",
    "> $P(X \\geq 4) = 1 - \\sum_{i=0}^{3} P(X=i)$"
   ]
  },
  {
   "cell_type": "code",
   "execution_count": 6,
   "metadata": {
    "scrolled": true
   },
   "outputs": [
    {
     "name": "stdout",
     "output_type": "stream",
     "text": [
      "La probabilidad de hallar al menos 4 fusibles defectuosos es de: 0.0159\n"
     ]
    }
   ],
   "source": [
    "#Datos\n",
    "p = 0.05\n",
    "q = 1 -p\n",
    "n = 20\n",
    "x = 3\n",
    "\n",
    "#cdf = Cumulative density function\n",
    "# cdf obtiene la distribucion binomial acumulada de 0 a x\n",
    "Px = 1- scipy.stats.binom.cdf(x, n, p)\n",
    "print(\"La probabilidad de hallar al menos 4 fusibles defectuosos es de:\", round(Px,5))"
   ]
  },
  {
   "cell_type": "markdown",
   "metadata": {},
   "source": [
    "> Para resolver este problema de la forma\n",
    ">\n",
    "> $P(X \\geq 4) =  \\sum_{i=4}^{20} P(X=i)$\n",
    "> \n",
    "> se puede hacer asi:"
   ]
  },
  {
   "cell_type": "code",
   "execution_count": 8,
   "metadata": {},
   "outputs": [
    {
     "name": "stdout",
     "output_type": "stream",
     "text": [
      "La probabilidad de hallar al menos 4 fusibles defectuosos es de: 0.0159\n"
     ]
    }
   ],
   "source": [
    "p = 0.05\n",
    "n = 20\n",
    "\n",
    "#Cálculos\n",
    "Px = 0\n",
    "for i in range(4,n+1):\n",
    "    Px = Px + scipy.stats.binom.pmf(i,n,p)\n",
    "\n",
    "#Resultado\n",
    "print(\"La probabilidad de hallar al menos 4 fusibles defectuosos es de:\", round(Px,5))"
   ]
  },
  {
   "cell_type": "code",
   "execution_count": 9,
   "metadata": {
    "scrolled": false
   },
   "outputs": [
    {
     "name": "stderr",
     "output_type": "stream",
     "text": [
      "C:\\ProgramData\\Anaconda3\\lib\\site-packages\\matplotlib\\axes\\_axes.py:6462: UserWarning: The 'normed' kwarg is deprecated, and has been replaced by the 'density' kwarg.\n",
      "  warnings.warn(\"The 'normed' kwarg is deprecated, and has been \"\n"
     ]
    },
    {
     "data": {
      "image/png": "[encoded data removed]",
      "text/plain": [
       "<Figure size 576x432 with 1 Axes>"
      ]
     },
     "metadata": {},
     "output_type": "display_data"
    }
   ],
   "source": [
    "#Gráfica con muestra n=20\n",
    "\n",
    "\n",
    "binom = scipy.stats.binom.rvs(n=20, p=0.05,size=5000)\n",
    "#Gráfica\n",
    "plt.figure(figsize=(8,6))\n",
    "sns.distplot(binom, kde=False, color=\"darkblue\")\n",
    "plt.ylabel(\"Frecuencia\")\n",
    "plt.title(\"Distribución Binomial, $n=20, p = 5%$\")\n",
    "plt.grid()\n",
    "plt.show()"
   ]
  },
  {
   "cell_type": "markdown",
   "metadata": {},
   "source": [
    "### Fuentes:\n",
    "- Duchesnay, Löfstedt & Younes (2019) Statistics (Chapter 4). Statistics and Machine Learning in Python (Release 0.3 beta).\n",
    "- Scipy.org (2019) scipy.stats.binom. Consultado el 11 de junio de 2020 de: https://docs.scipy.org/doc/scipy/reference/generated/scipy.stats.binom.html\n",
    "- Spiegel & Stephens (2009) La distribución binomial (Cap. 7) Estadística (Serie Schaum, 4ta Edición). CDMX. The McGraw-Hill.\n",
    "- Wackerly, Mendenhall & Scheaffer (2010) La distribución de probabilidad binomial (Cap. 3). Estadística matemática con aplicaciones (7ma Edición). CDMX. Cengage Learning"
   ]
  }
 ],
 "metadata": {
  "kernelspec": {
   "display_name": "Python 3",
   "language": "python",
   "name": "python3"
  },
  "language_info": {
   "codemirror_mode": {
    "name": "ipython",
    "version": 3
   },
   "file_extension": ".py",
   "mimetype": "text/x-python",
   "name": "python",
   "nbconvert_exporter": "python",
   "pygments_lexer": "ipython3",
   "version": "3.6.5"
  }
 },
 "nbformat": 4,
 "nbformat_minor": 2
}
