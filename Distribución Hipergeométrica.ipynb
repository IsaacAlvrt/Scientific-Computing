{
 "cells": [
  {
   "cell_type": "markdown",
   "metadata": {},
   "source": [
    "<h1 style=\"color: #14549C\">Distribución Hipergeométrica</h1>   "
   ]
  },
  {
   "cell_type": "markdown",
   "metadata": {},
   "source": [
    "### Introducción\n",
    "<br>\n",
    "<div style=\"text-align: justify\">\n",
    "Cuando en una poblacion $N$, la cual tiene un tamaño conocido, se sabe el número de éxitos $r$ de un evento aleatorio. El modelo de distribución hipergeométrica sirve para calcular la probabilidad de que la variable aleatoria $X$ tome un valor $x \\in X$ en $n$ ensayos.\n",
    "</div>"
   ]
  },
  {
   "cell_type": "markdown",
   "metadata": {},
   "source": [
    "### Definición\n",
    "Se dice que una variable aleatoria Y tiene una distribución de probabilidad hipergeométrica si y sólo si:\n",
    "> <h3> $P(x) = \\frac{{r \\choose x} \\cdot {N-r \\choose n-x} }{N \\choose n}$ </h3>\n",
    ">\n",
    "> donde \n",
    "- r: número de éxitos\n",
    "- x: valor deseado de X\n",
    "- N: Población\n",
    "- n: muestra"
   ]
  },
  {
   "cell_type": "markdown",
   "metadata": {},
   "source": [
    "### Media y Varianza\n",
    "> <h3> $\\mu = \\frac{nr}{N}$ </h3>\n",
    "> <h3> $\\sigma^2 = n \\cdot \\frac{r}{N} \\cdot \\frac{N-r}{N} \\cdot \\frac{N-n}{N-1}$ </h3>"
   ]
  },
  {
   "cell_type": "code",
   "execution_count": 4,
   "metadata": {},
   "outputs": [],
   "source": [
    "#Librerias usadas\n",
    "import matplotlib.pyplot as plt\n",
    "import seaborn as sns\n",
    "import numpy as np\n",
    "import scipy"
   ]
  },
  {
   "cell_type": "markdown",
   "metadata": {},
   "source": [
    "## Ejemplo 1\n",
    "De un grupo de 20 ingenieros con título de Ph.D, 10 de ellos son seleccionados al azar para un empleo. ¿Cuál es la probabilidad de que los 10 seleccionados incluyan\n",
    "los cinco mejores ingenieros del grupo de 20?"
   ]
  },
  {
   "cell_type": "code",
   "execution_count": 5,
   "metadata": {},
   "outputs": [
    {
     "name": "stdout",
     "output_type": "stream",
     "text": [
      "La probabilidad de que los 10 ingenieros seleccionados incluyan los mejores 5 es de: 0.01625\n"
     ]
    }
   ],
   "source": [
    "#Datos\n",
    "N = 20\n",
    "n = 10\n",
    "x = 5\n",
    "r = 5\n",
    "\n",
    "#Calculos\n",
    "#pmf = Probability Mass Function\n",
    "Px = scipy.stats.hypergeom.pmf(x, N, r, n)\n",
    "\n",
    "#Resultado\n",
    "print(\"La probabilidad de que los 10 ingenieros seleccionados incluyan los mejores 5 es de:\", round(Px,5))"
   ]
  },
  {
   "cell_type": "code",
   "execution_count": 17,
   "metadata": {},
   "outputs": [
    {
     "name": "stderr",
     "output_type": "stream",
     "text": [
      "C:\\ProgramData\\Anaconda3\\lib\\site-packages\\matplotlib\\axes\\_axes.py:6462: UserWarning: The 'normed' kwarg is deprecated, and has been replaced by the 'density' kwarg.\n",
      "  warnings.warn(\"The 'normed' kwarg is deprecated, and has been \"\n"
     ]
    },
    {
     "data": {
      "image/png": "[encoded data removed]",
      "text/plain": [
       "<Figure size 576x432 with 1 Axes>"
      ]
     },
     "metadata": {},
     "output_type": "display_data"
    }
   ],
   "source": [
    "#Datos\n",
    "N = 20\n",
    "n = 10\n",
    "x = 5\n",
    "r = 5\n",
    "\n",
    "#Gráfica\n",
    "#rvs = Random variates.\n",
    "hypergeom = scipy.stats.hypergeom.rvs(N, r, n, size=1000)\n",
    "\n",
    "#Gráfica\n",
    "plt.figure(figsize=(8,6))\n",
    "sns.distplot(hypergeom, kde=False, color=\"darkblue\")\n",
    "plt.ylabel(\"Frecuencia\")\n",
    "plt.title(\"Distribución Hipergeométrica, simulando $n=1000$\")\n",
    "plt.grid()\n",
    "plt.show()"
   ]
  },
  {
   "cell_type": "markdown",
   "metadata": {},
   "source": [
    "## Ejemplo 2\n",
    "<br>\n",
    "<div style=\"text-align: justify\">\n",
    "Un producto industrial se envía en lotes de 20. Es costoso realizar pruebas para determinar si\n",
    "un artículo es defectuoso y, por tanto, el fabricante muestrea su producción en lugar de usar un\n",
    "plan de inspección al 100%. Un plan de muestreo, construido para minimizar el número de\n",
    "piezas defectuosas enviadas a los clientes, exige muestrear cinco artículos de cada lote y rechazar el lote si se observa más de una pieza defectuosa. (Si el lote es rechazado, cada artículo\n",
    "del mismo se prueba posteriormente.) Si un lote contiene cuatro piezas defectuosas, \n",
    "</div>"
   ]
  },
  {
   "cell_type": "markdown",
   "metadata": {},
   "source": [
    "###### 1. ¿Cuál es la probabilidad de que sea rechazado?"
   ]
  },
  {
   "cell_type": "markdown",
   "metadata": {},
   "source": [
    "> El lote se rechaza si hay más de una pieza defectuosa. De entre cinco piezas seleccionadas al azar de un lote de 20, se debe calcular:\n",
    ">\n",
    "> $P(X \\geq 2)= P(X=2) + P(X=3) + P(X=4) $ <br>\n",
    ">\n",
    ">Nótese que:\n",
    ">\n",
    ">$P(X \\geq 2)= 1 - P(X \\leq 1) $ \n",
    ">\n",
    "> Por lo tanto:\n",
    "> \n",
    "> $P(X \\geq 2)= P(X=0) + P(X=1)$"
   ]
  },
  {
   "cell_type": "code",
   "execution_count": 20,
   "metadata": {},
   "outputs": [
    {
     "name": "stdout",
     "output_type": "stream",
     "text": [
      "La probabilidad de que en el lote se encuentre más de una pieza defectuosa y por lo tanto, sea rechazado es de: 0.24871\n"
     ]
    }
   ],
   "source": [
    "#Datos:\n",
    "N = 20\n",
    "n = 5\n",
    "r = 4\n",
    "x = 1\n",
    "\n",
    "#Cálculos\n",
    "#cdf = Comulative Distribution Function\n",
    "#cdf calcula la probabilidad acumulada de 0 a 1\n",
    "Px = 1 -scipy.stats.hypergeom.cdf(x, N, r, n)\n",
    "\n",
    "#Resultado\n",
    "print(\"La probabilidad de que en el lote se encuentre más de una pieza defectuosa y por lo tanto, sea rechazado es de:\", \n",
    "     round(Px, 5))"
   ]
  },
  {
   "cell_type": "markdown",
   "metadata": {},
   "source": [
    "###### 2. ¿Cuál es el número esperado de piezas defectuosas en la muestra de tamaño 5?"
   ]
  },
  {
   "cell_type": "code",
   "execution_count": 21,
   "metadata": {},
   "outputs": [
    {
     "name": "stdout",
     "output_type": "stream",
     "text": [
      "El número esperado de piezas defectuosas es de: 1.0\n"
     ]
    }
   ],
   "source": [
    "mu = scipy.stats.hypergeom.mean(N, r, n)\n",
    "print(\"El número esperado de piezas defectuosas es de:\", round(mu, 5))"
   ]
  },
  {
   "cell_type": "markdown",
   "metadata": {},
   "source": [
    "###### 3. ¿Cuál es la varianza y desviación estándar del número de piezas defectuosas de la muestra de tamaño 5?"
   ]
  },
  {
   "cell_type": "code",
   "execution_count": 24,
   "metadata": {},
   "outputs": [
    {
     "name": "stdout",
     "output_type": "stream",
     "text": [
      "la varianza es de: 0.63158 \n",
      "y la desviación estándar es de: 0.79472\n"
     ]
    }
   ],
   "source": [
    "var = scipy.stats.hypergeom.var(N, r, n)\n",
    "std = scipy.stats.hypergeom.std(N, r, n)\n",
    "\n",
    "print(\"la varianza es de:\", round(var,5), \"\\ny la desviación estándar es de:\", round(std,5) )"
   ]
  },
  {
   "cell_type": "code",
   "execution_count": 25,
   "metadata": {},
   "outputs": [
    {
     "name": "stderr",
     "output_type": "stream",
     "text": [
      "C:\\ProgramData\\Anaconda3\\lib\\site-packages\\matplotlib\\axes\\_axes.py:6462: UserWarning: The 'normed' kwarg is deprecated, and has been replaced by the 'density' kwarg.\n",
      "  warnings.warn(\"The 'normed' kwarg is deprecated, and has been \"\n"
     ]
    },
    {
     "data": {
      "image/png": "[encoded data removed]",
      "text/plain": [
       "<Figure size 576x432 with 1 Axes>"
      ]
     },
     "metadata": {},
     "output_type": "display_data"
    }
   ],
   "source": [
    "#Datos:\n",
    "N = 20\n",
    "n = 5\n",
    "r = 4\n",
    "\n",
    "#Grafica\n",
    "hypergeom = scipy.stats.hypergeom.rvs(N, r, n, size=1000)\n",
    "plt.figure(figsize=(8,6))\n",
    "sns.distplot(hypergeom, kde=False, color=\"darkblue\")\n",
    "plt.ylabel(\"Frecuencia\")\n",
    "plt.title(\"Distribución Hipergeométrica, simulando $n=1000$\")\n",
    "plt.grid()\n",
    "plt.show()"
   ]
  },
  {
   "cell_type": "markdown",
   "metadata": {},
   "source": [
    "### Fuentes:\n",
    "- Scipy.org (2019) scipy.stats.hypergeom. Consultado el 11-jun-2020 de: https://docs.scipy.org/doc/scipy/reference/generated/scipy.stats.hypergeom.html\n",
    "- Wackerly, Mendenhall & Scheaffer (2010) La distribución de probabilidad hipergeométrica (Cap. 3). Estadística matemática con aplicaciones (7ma Edición). CDMX. Cengage Learning."
   ]
  }
 ],
 "metadata": {
  "kernelspec": {
   "display_name": "Python 3",
   "language": "python",
   "name": "python3"
  },
  "language_info": {
   "codemirror_mode": {
    "name": "ipython",
    "version": 3
   },
   "file_extension": ".py",
   "mimetype": "text/x-python",
   "name": "python",
   "nbconvert_exporter": "python",
   "pygments_lexer": "ipython3",
   "version": "3.6.5"
  }
 },
 "nbformat": 4,
 "nbformat_minor": 2
}
