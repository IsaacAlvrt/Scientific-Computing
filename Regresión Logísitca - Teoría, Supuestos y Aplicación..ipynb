{
 "cells": [
  {
   "cell_type": "markdown",
   "metadata": {},
   "source": [
    "<h1 style=\"color:darkblue\">Regresión Logísitca</h1>"
   ]
  },
  {
   "cell_type": "markdown",
   "metadata": {},
   "source": [
    "### Introducción.\n",
    "La regresión lógistica es muy parecida a los modelos de regresión lineales: predice el valor esperado $E(Y)$ de una variable dependiente $Y$ dado el valor de una o de distintas variables independientes $X_1, X_2, ... X_n$\n",
    "El modelo logistico es para estimar la relación entre una variable dependiente cualitativa dicotómica, dadas una o varias variables independientes cualitativas o cuantitativas. \n",
    "\n",
    "\n",
    "### Función.\n",
    "La regresión logíca calcula la probabilidad $P$ de que ocurra $Y$ a partir de las variables predictorias $X_n$\n",
    "> <h2> $ P(Y) = \\frac{1}{1+ e^{-{\\beta_0 +\\beta_1 X_1 + \\beta_2 X_2 + ... + \\beta_n X_n}}} $ </h2>\n",
    "\n",
    "\n",
    "### Supuestos\n",
    "- Linealidad: Existe una relación binaria entre cada variable predictoria y el logaritmo de la variable respuesta.\n",
    "- Independencia de los errores: Los residuos no siguen un patron claro, estan aleatoriamente distribuidos.\n",
    "- Multicolinealidad: Las variables predictoras no deben estar altamente correlacionadas."
   ]
  },
  {
   "cell_type": "code",
   "execution_count": 1,
   "metadata": {},
   "outputs": [],
   "source": [
    "#librerias\n",
    "import matplotlib.pyplot as plt\n",
    "import statsmodels.api as sm\n",
    "import seaborn as sns\n",
    "import pandas as pd\n",
    "import numpy as np"
   ]
  },
  {
   "cell_type": "markdown",
   "metadata": {},
   "source": [
    "## Ejemplo\n",
    "\n",
    "Se desea medir el efecto de la enseñanza personalizada para los estudiantes, si Y = 1 significa que su calificación final fue A y si Y = 0 significa que fue diferente de A. "
   ]
  },
  {
   "cell_type": "code",
   "execution_count": 2,
   "metadata": {},
   "outputs": [],
   "source": [
    "#datos \n",
    "data = pd.read_excel(\"Datasets/gpa.xlsx\",)"
   ]
  },
  {
   "cell_type": "code",
   "execution_count": 4,
   "metadata": {},
   "outputs": [
    {
     "data": {
      "text/html": [
       "<div>\n",
       "<style scoped>\n",
       "    .dataframe tbody tr th:only-of-type {\n",
       "        vertical-align: middle;\n",
       "    }\n",
       "\n",
       "    .dataframe tbody tr th {\n",
       "        vertical-align: top;\n",
       "    }\n",
       "\n",
       "    .dataframe thead th {\n",
       "        text-align: right;\n",
       "    }\n",
       "</style>\n",
       "<table border=\"1\" class=\"dataframe\">\n",
       "  <thead>\n",
       "    <tr style=\"text-align: right;\">\n",
       "      <th></th>\n",
       "      <th>GPA</th>\n",
       "      <th>TUCE</th>\n",
       "      <th>PSI</th>\n",
       "      <th>calificación</th>\n",
       "      <th>letra</th>\n",
       "    </tr>\n",
       "  </thead>\n",
       "  <tbody>\n",
       "    <tr>\n",
       "      <th>0</th>\n",
       "      <td>2.66</td>\n",
       "      <td>20</td>\n",
       "      <td>0</td>\n",
       "      <td>0</td>\n",
       "      <td>C</td>\n",
       "    </tr>\n",
       "    <tr>\n",
       "      <th>1</th>\n",
       "      <td>2.89</td>\n",
       "      <td>22</td>\n",
       "      <td>0</td>\n",
       "      <td>0</td>\n",
       "      <td>B</td>\n",
       "    </tr>\n",
       "    <tr>\n",
       "      <th>2</th>\n",
       "      <td>3.28</td>\n",
       "      <td>24</td>\n",
       "      <td>0</td>\n",
       "      <td>0</td>\n",
       "      <td>B</td>\n",
       "    </tr>\n",
       "    <tr>\n",
       "      <th>3</th>\n",
       "      <td>2.92</td>\n",
       "      <td>12</td>\n",
       "      <td>0</td>\n",
       "      <td>0</td>\n",
       "      <td>B</td>\n",
       "    </tr>\n",
       "    <tr>\n",
       "      <th>4</th>\n",
       "      <td>4.00</td>\n",
       "      <td>21</td>\n",
       "      <td>0</td>\n",
       "      <td>1</td>\n",
       "      <td>A</td>\n",
       "    </tr>\n",
       "  </tbody>\n",
       "</table>\n",
       "</div>"
      ],
      "text/plain": [
       "    GPA  TUCE  PSI  calificación letra\n",
       "0  2.66    20    0             0     C\n",
       "1  2.89    22    0             0     B\n",
       "2  3.28    24    0             0     B\n",
       "3  2.92    12    0             0     B\n",
       "4  4.00    21    0             1     A"
      ]
     },
     "execution_count": 4,
     "metadata": {},
     "output_type": "execute_result"
    }
   ],
   "source": [
    "data.head()"
   ]
  },
  {
   "cell_type": "markdown",
   "metadata": {},
   "source": [
    "Notas:\n",
    " \n",
    " - Y=1 si la calificación final fue A\n",
    " - Y=0 si la calificación final fue B o C\n",
    " - TUCE  calificación en un examen presentado al comienzo del curso para evaluar los conocimientos previos de macroeconomía\n",
    " - PSI  1 con el nuevo método de enseñanza\n",
    " - 0 en otro caso\n",
    " - GPA  promedio de puntos de calificación inicial\n",
    "\n",
    "Fuente: L. Spector y M. Mazzero, “Probit Analysis and Economic Education”, Journal of Economic Education, vol. 11, 1980, pp. 37-44."
   ]
  },
  {
   "cell_type": "code",
   "execution_count": 5,
   "metadata": {},
   "outputs": [
    {
     "name": "stdout",
     "output_type": "stream",
     "text": [
      "<class 'pandas.core.frame.DataFrame'>\n",
      "RangeIndex: 32 entries, 0 to 31\n",
      "Data columns (total 5 columns):\n",
      "GPA             32 non-null float64\n",
      "TUCE            32 non-null int64\n",
      "PSI             32 non-null int64\n",
      "calificación    32 non-null int64\n",
      "letra           32 non-null object\n",
      "dtypes: float64(1), int64(3), object(1)\n",
      "memory usage: 1.3+ KB\n"
     ]
    }
   ],
   "source": [
    "data.info()"
   ]
  },
  {
   "cell_type": "code",
   "execution_count": 6,
   "metadata": {},
   "outputs": [
    {
     "data": {
      "text/plain": [
       "<seaborn.axisgrid.PairGrid at 0x255c3abf780>"
      ]
     },
     "execution_count": 6,
     "metadata": {},
     "output_type": "execute_result"
    },
    {
     "data": {
      "image/png": "[encoded data removed]",
      "text/plain": [
       "<Figure size 784.25x720 with 20 Axes>"
      ]
     },
     "metadata": {},
     "output_type": "display_data"
    }
   ],
   "source": [
    "sns.pairplot(data, hue=\"calificación\")"
   ]
  },
  {
   "cell_type": "code",
   "execution_count": 9,
   "metadata": {},
   "outputs": [],
   "source": [
    "#variables del modelo logistico\n",
    "Y = data[\"calificación\"]\n",
    "X = data[[\"GPA\", \"TUCE\", \"PSI\"]]\n",
    "X = sm.add_constant(X)"
   ]
  },
  {
   "cell_type": "code",
   "execution_count": 10,
   "metadata": {},
   "outputs": [
    {
     "name": "stdout",
     "output_type": "stream",
     "text": [
      "Optimization terminated successfully.\n",
      "         Current function value: 0.402801\n",
      "         Iterations 7\n"
     ]
    },
    {
     "data": {
      "text/html": [
       "<table class=\"simpletable\">\n",
       "<caption>Logit Regression Results</caption>\n",
       "<tr>\n",
       "  <th>Dep. Variable:</th>   <td>calificación</td>   <th>  No. Observations:  </th>  <td>    32</td> \n",
       "</tr>\n",
       "<tr>\n",
       "  <th>Model:</th>               <td>Logit</td>      <th>  Df Residuals:      </th>  <td>    28</td> \n",
       "</tr>\n",
       "<tr>\n",
       "  <th>Method:</th>               <td>MLE</td>       <th>  Df Model:          </th>  <td>     3</td> \n",
       "</tr>\n",
       "<tr>\n",
       "  <th>Date:</th>          <td>Sun, 26 Jul 2020</td> <th>  Pseudo R-squ.:     </th>  <td>0.3740</td> \n",
       "</tr>\n",
       "<tr>\n",
       "  <th>Time:</th>              <td>21:24:12</td>     <th>  Log-Likelihood:    </th> <td> -12.890</td>\n",
       "</tr>\n",
       "<tr>\n",
       "  <th>converged:</th>           <td>True</td>       <th>  LL-Null:           </th> <td> -20.592</td>\n",
       "</tr>\n",
       "<tr>\n",
       "  <th> </th>                      <td> </td>        <th>  LLR p-value:       </th> <td>0.001502</td>\n",
       "</tr>\n",
       "</table>\n",
       "<table class=\"simpletable\">\n",
       "<tr>\n",
       "    <td></td>       <th>coef</th>     <th>std err</th>      <th>z</th>      <th>P>|z|</th>  <th>[0.025</th>    <th>0.975]</th>  \n",
       "</tr>\n",
       "<tr>\n",
       "  <th>const</th> <td>  -13.0213</td> <td>    4.931</td> <td>   -2.641</td> <td> 0.008</td> <td>  -22.687</td> <td>   -3.356</td>\n",
       "</tr>\n",
       "<tr>\n",
       "  <th>GPA</th>   <td>    2.8261</td> <td>    1.263</td> <td>    2.238</td> <td> 0.025</td> <td>    0.351</td> <td>    5.301</td>\n",
       "</tr>\n",
       "<tr>\n",
       "  <th>TUCE</th>  <td>    0.0952</td> <td>    0.142</td> <td>    0.672</td> <td> 0.501</td> <td>   -0.182</td> <td>    0.373</td>\n",
       "</tr>\n",
       "<tr>\n",
       "  <th>PSI</th>   <td>    2.3787</td> <td>    1.065</td> <td>    2.234</td> <td> 0.025</td> <td>    0.292</td> <td>    4.465</td>\n",
       "</tr>\n",
       "</table>"
      ],
      "text/plain": [
       "<class 'statsmodels.iolib.summary.Summary'>\n",
       "\"\"\"\n",
       "                           Logit Regression Results                           \n",
       "==============================================================================\n",
       "Dep. Variable:           calificación   No. Observations:                   32\n",
       "Model:                          Logit   Df Residuals:                       28\n",
       "Method:                           MLE   Df Model:                            3\n",
       "Date:                Sun, 26 Jul 2020   Pseudo R-squ.:                  0.3740\n",
       "Time:                        21:24:12   Log-Likelihood:                -12.890\n",
       "converged:                       True   LL-Null:                       -20.592\n",
       "                                        LLR p-value:                  0.001502\n",
       "==============================================================================\n",
       "                 coef    std err          z      P>|z|      [0.025      0.975]\n",
       "------------------------------------------------------------------------------\n",
       "const        -13.0213      4.931     -2.641      0.008     -22.687      -3.356\n",
       "GPA            2.8261      1.263      2.238      0.025       0.351       5.301\n",
       "TUCE           0.0952      0.142      0.672      0.501      -0.182       0.373\n",
       "PSI            2.3787      1.065      2.234      0.025       0.292       4.465\n",
       "==============================================================================\n",
       "\"\"\""
      ]
     },
     "execution_count": 10,
     "metadata": {},
     "output_type": "execute_result"
    }
   ],
   "source": [
    "# modelo\n",
    "model = sm.Logit(Y, X).fit()\n",
    "model.summary()"
   ]
  },
  {
   "cell_type": "markdown",
   "metadata": {},
   "source": [
    "<b>Interpretación:</b>\n",
    ">  La llamada \"Pseudo $R^2$ es lo que se conoce como $R^2 \\space McFadden$ que es:\n",
    "> $R^2 = \\frac{Predicciones}{Observaciones}$ En este caso como $R^2=0.374$ significa que este modelo se ajusta al 37.4% de los datos.\n",
    ">\n",
    "> Coeficientes: \n",
    "- Ya que el GPA = 2.826, significa que si los demás coeficientes permanecen constante, por cada aumento en 1 del GPA, aumenta en promedio el logit en 2.826.\n",
    "- Se puede representar de forma analoga todos los demás coeficientes. Todos poseen una relación positiva con el logit.\n",
    "- el p-valor asociado a casi todos los coeficientes es menor al 5%, lo cual indica que son significativos a nivel estadístico. La única excepción es el coeficiente de TUCE, cuyo p-valor es de 0.501 = 50.1% por lo que podría omitirse este coeficiente.\n",
    ">\n",
    "> Todas las variables regresoras tienen un impacto en la calificación, dado que el p-valor asociado al modelo en su conjunto es de LLR p = 0.001502 por lo que es muy significativo a nivel estadístico.\n",
    ">\n",
    "> nota: la hipotesis nula $H_0$ asociada al p-valor de los coeficientes, mide la probabilidad e que que un coeficiente sea igual a cero."
   ]
  },
  {
   "cell_type": "code",
   "execution_count": 13,
   "metadata": {},
   "outputs": [
    {
     "name": "stdout",
     "output_type": "stream",
     "text": [
      "Optimization terminated successfully.\n",
      "         Current function value: 0.410205\n",
      "         Iterations 7\n"
     ]
    },
    {
     "data": {
      "text/html": [
       "<table class=\"simpletable\">\n",
       "<caption>Logit Regression Results</caption>\n",
       "<tr>\n",
       "  <th>Dep. Variable:</th>   <td>calificación</td>   <th>  No. Observations:  </th>  <td>    32</td>  \n",
       "</tr>\n",
       "<tr>\n",
       "  <th>Model:</th>               <td>Logit</td>      <th>  Df Residuals:      </th>  <td>    29</td>  \n",
       "</tr>\n",
       "<tr>\n",
       "  <th>Method:</th>               <td>MLE</td>       <th>  Df Model:          </th>  <td>     2</td>  \n",
       "</tr>\n",
       "<tr>\n",
       "  <th>Date:</th>          <td>Sun, 26 Jul 2020</td> <th>  Pseudo R-squ.:     </th>  <td>0.3625</td>  \n",
       "</tr>\n",
       "<tr>\n",
       "  <th>Time:</th>              <td>21:24:20</td>     <th>  Log-Likelihood:    </th> <td> -13.127</td> \n",
       "</tr>\n",
       "<tr>\n",
       "  <th>converged:</th>           <td>True</td>       <th>  LL-Null:           </th> <td> -20.592</td> \n",
       "</tr>\n",
       "<tr>\n",
       "  <th> </th>                      <td> </td>        <th>  LLR p-value:       </th> <td>0.0005727</td>\n",
       "</tr>\n",
       "</table>\n",
       "<table class=\"simpletable\">\n",
       "<tr>\n",
       "    <td></td>       <th>coef</th>     <th>std err</th>      <th>z</th>      <th>P>|z|</th>  <th>[0.025</th>    <th>0.975]</th>  \n",
       "</tr>\n",
       "<tr>\n",
       "  <th>const</th> <td>  -11.6016</td> <td>    4.213</td> <td>   -2.754</td> <td> 0.006</td> <td>  -19.859</td> <td>   -3.344</td>\n",
       "</tr>\n",
       "<tr>\n",
       "  <th>GPA</th>   <td>    3.0634</td> <td>    1.223</td> <td>    2.505</td> <td> 0.012</td> <td>    0.667</td> <td>    5.460</td>\n",
       "</tr>\n",
       "<tr>\n",
       "  <th>PSI</th>   <td>    2.3378</td> <td>    1.041</td> <td>    2.246</td> <td> 0.025</td> <td>    0.298</td> <td>    4.378</td>\n",
       "</tr>\n",
       "</table>"
      ],
      "text/plain": [
       "<class 'statsmodels.iolib.summary.Summary'>\n",
       "\"\"\"\n",
       "                           Logit Regression Results                           \n",
       "==============================================================================\n",
       "Dep. Variable:           calificación   No. Observations:                   32\n",
       "Model:                          Logit   Df Residuals:                       29\n",
       "Method:                           MLE   Df Model:                            2\n",
       "Date:                Sun, 26 Jul 2020   Pseudo R-squ.:                  0.3625\n",
       "Time:                        21:24:20   Log-Likelihood:                -13.127\n",
       "converged:                       True   LL-Null:                       -20.592\n",
       "                                        LLR p-value:                 0.0005727\n",
       "==============================================================================\n",
       "                 coef    std err          z      P>|z|      [0.025      0.975]\n",
       "------------------------------------------------------------------------------\n",
       "const        -11.6016      4.213     -2.754      0.006     -19.859      -3.344\n",
       "GPA            3.0634      1.223      2.505      0.012       0.667       5.460\n",
       "PSI            2.3378      1.041      2.246      0.025       0.298       4.378\n",
       "==============================================================================\n",
       "\"\"\""
      ]
     },
     "execution_count": 13,
     "metadata": {},
     "output_type": "execute_result"
    }
   ],
   "source": [
    "#modelo sin variable TUCE\n",
    "Y = data[\"calificación\"]\n",
    "X = data[[\"GPA\", \"PSI\"]]\n",
    "X = sm.add_constant(X)\n",
    "\n",
    "model2 = sm.Logit(Y, X).fit()\n",
    "model2.summary()"
   ]
  },
  {
   "cell_type": "markdown",
   "metadata": {},
   "source": [
    "> Ahora el modelo en su conjunto es más significativo $R^2 = 0.3625$ y $LLR_{p-value} = 0.0005$, asi como también son más significativos los coeficientes de forma individual. \n",
    "\n",
    "###### Multicolinealidad\n",
    "Para verificar este supuesto se utilizará el VIF (Variance Inflation Factor)"
   ]
  },
  {
   "cell_type": "code",
   "execution_count": 14,
   "metadata": {},
   "outputs": [],
   "source": [
    "from statsmodels.stats.outliers_influence import variance_inflation_factor"
   ]
  },
  {
   "cell_type": "code",
   "execution_count": 15,
   "metadata": {},
   "outputs": [],
   "source": [
    "vif = pd.DataFrame()\n",
    "#X.shape[1] = 3, ya que existen 3 variables\n",
    "# la funcion \"variance_inflation_factor\" toma como parametros los datos y el numero de variables\n",
    "\n",
    "vif[\"VIF Factor\"] = [variance_inflation_factor(X.values, i) for i in range(X.shape[1])]\n",
    "vif[\"Variables\"] = X.columns"
   ]
  },
  {
   "cell_type": "code",
   "execution_count": 16,
   "metadata": {},
   "outputs": [
    {
     "data": {
      "text/html": [
       "<div>\n",
       "<style scoped>\n",
       "    .dataframe tbody tr th:only-of-type {\n",
       "        vertical-align: middle;\n",
       "    }\n",
       "\n",
       "    .dataframe tbody tr th {\n",
       "        vertical-align: top;\n",
       "    }\n",
       "\n",
       "    .dataframe thead th {\n",
       "        text-align: right;\n",
       "    }\n",
       "</style>\n",
       "<table border=\"1\" class=\"dataframe\">\n",
       "  <thead>\n",
       "    <tr style=\"text-align: right;\">\n",
       "      <th></th>\n",
       "      <th>VIF Factor</th>\n",
       "      <th>Variables</th>\n",
       "    </tr>\n",
       "  </thead>\n",
       "  <tbody>\n",
       "    <tr>\n",
       "      <th>0</th>\n",
       "      <td>47.424321</td>\n",
       "      <td>const</td>\n",
       "    </tr>\n",
       "    <tr>\n",
       "      <th>1</th>\n",
       "      <td>1.001577</td>\n",
       "      <td>GPA</td>\n",
       "    </tr>\n",
       "    <tr>\n",
       "      <th>2</th>\n",
       "      <td>1.001577</td>\n",
       "      <td>PSI</td>\n",
       "    </tr>\n",
       "  </tbody>\n",
       "</table>\n",
       "</div>"
      ],
      "text/plain": [
       "   VIF Factor Variables\n",
       "0   47.424321     const\n",
       "1    1.001577       GPA\n",
       "2    1.001577       PSI"
      ]
     },
     "execution_count": 16,
     "metadata": {},
     "output_type": "execute_result"
    }
   ],
   "source": [
    "vif"
   ]
  },
  {
   "cell_type": "code",
   "execution_count": 17,
   "metadata": {},
   "outputs": [
    {
     "data": {
      "image/png": "[encoded data removed]",
      "text/plain": [
       "<Figure size 720x576 with 2 Axes>"
      ]
     },
     "metadata": {},
     "output_type": "display_data"
    }
   ],
   "source": [
    "Z = pd.concat([Y, X], axis=1)\n",
    "\n",
    "plt.figure(figsize=(10,8))\n",
    "sns.heatmap(Z.corr(), cmap=\"Blues\", annot=True)\n",
    "plt.show()"
   ]
  },
  {
   "cell_type": "markdown",
   "metadata": {},
   "source": [
    "> Aunque el VIF de la constante es superior a 10 (que es cuando un VIF indica multicolinealidad) es una variable artificial que no guarda correlación con las otras variables explicatorias, por lo que no hay evidencia de multicolinealidad."
   ]
  },
  {
   "cell_type": "markdown",
   "metadata": {},
   "source": [
    "###### Independencia de los errores\n",
    "\n",
    "Para evualuar la independencia de los errores, se utilizará el estadístico Durbin-Watson. Este toma valores entre 0 y 4, donde 2 inidica que no existe relacion entre los errores."
   ]
  },
  {
   "cell_type": "code",
   "execution_count": 18,
   "metadata": {},
   "outputs": [
    {
     "name": "stdout",
     "output_type": "stream",
     "text": [
      "2.2609\n"
     ]
    }
   ],
   "source": [
    "from statsmodels.stats.stattools import durbin_watson\n",
    "dw = durbin_watson(model2.resid_generalized)\n",
    "print(round(dw,4))"
   ]
  },
  {
   "cell_type": "markdown",
   "metadata": {},
   "source": [
    "> Como el Durbin-Watson resulto cercano a 2, se acepta que los errores no esta relacionados."
   ]
  },
  {
   "cell_type": "markdown",
   "metadata": {},
   "source": [
    "###### Modelo con Sklearn"
   ]
  },
  {
   "cell_type": "code",
   "execution_count": 19,
   "metadata": {},
   "outputs": [],
   "source": [
    "from sklearn.feature_selection import RFE\n",
    "from sklearn.linear_model import LogisticRegression"
   ]
  },
  {
   "cell_type": "code",
   "execution_count": 22,
   "metadata": {},
   "outputs": [
    {
     "data": {
      "text/html": [
       "<div>\n",
       "<style scoped>\n",
       "    .dataframe tbody tr th:only-of-type {\n",
       "        vertical-align: middle;\n",
       "    }\n",
       "\n",
       "    .dataframe tbody tr th {\n",
       "        vertical-align: top;\n",
       "    }\n",
       "\n",
       "    .dataframe thead th {\n",
       "        text-align: right;\n",
       "    }\n",
       "</style>\n",
       "<table border=\"1\" class=\"dataframe\">\n",
       "  <thead>\n",
       "    <tr style=\"text-align: right;\">\n",
       "      <th></th>\n",
       "      <th>GPA</th>\n",
       "      <th>TUCE</th>\n",
       "      <th>PSI</th>\n",
       "      <th>calificación</th>\n",
       "    </tr>\n",
       "  </thead>\n",
       "  <tbody>\n",
       "    <tr>\n",
       "      <th>GPA</th>\n",
       "      <td>1.000000</td>\n",
       "      <td>0.386986</td>\n",
       "      <td>0.039683</td>\n",
       "      <td>0.497147</td>\n",
       "    </tr>\n",
       "    <tr>\n",
       "      <th>TUCE</th>\n",
       "      <td>0.386986</td>\n",
       "      <td>1.000000</td>\n",
       "      <td>0.112780</td>\n",
       "      <td>0.303055</td>\n",
       "    </tr>\n",
       "    <tr>\n",
       "      <th>PSI</th>\n",
       "      <td>0.039683</td>\n",
       "      <td>0.112780</td>\n",
       "      <td>1.000000</td>\n",
       "      <td>0.422760</td>\n",
       "    </tr>\n",
       "    <tr>\n",
       "      <th>calificación</th>\n",
       "      <td>0.497147</td>\n",
       "      <td>0.303055</td>\n",
       "      <td>0.422760</td>\n",
       "      <td>1.000000</td>\n",
       "    </tr>\n",
       "  </tbody>\n",
       "</table>\n",
       "</div>"
      ],
      "text/plain": [
       "                   GPA      TUCE       PSI  calificación\n",
       "GPA           1.000000  0.386986  0.039683      0.497147\n",
       "TUCE          0.386986  1.000000  0.112780      0.303055\n",
       "PSI           0.039683  0.112780  1.000000      0.422760\n",
       "calificación  0.497147  0.303055  0.422760      1.000000"
      ]
     },
     "execution_count": 22,
     "metadata": {},
     "output_type": "execute_result"
    }
   ],
   "source": [
    "data.corr()"
   ]
  },
  {
   "cell_type": "code",
   "execution_count": 27,
   "metadata": {},
   "outputs": [],
   "source": [
    "#Variables\n",
    "Y = data[\"calificación\"]\n",
    "X = data[[\"GPA\", \"TUCE\",\"PSI\"]]\n",
    "X = sm.add_constant(X)\n",
    "\n",
    "#Selección de variables\n",
    "lr = LogisticRegression()\n",
    "\n",
    "n=1\n",
    "\n",
    "rfe = RFE(lr, n)\n",
    "rfe = rfe.fit(X,Y)"
   ]
  },
  {
   "cell_type": "code",
   "execution_count": 28,
   "metadata": {},
   "outputs": [
    {
     "data": {
      "text/plain": [
       "array([False, False, False,  True])"
      ]
     },
     "execution_count": 28,
     "metadata": {},
     "output_type": "execute_result"
    }
   ],
   "source": [
    "rfe.support_"
   ]
  },
  {
   "cell_type": "code",
   "execution_count": 29,
   "metadata": {},
   "outputs": [
    {
     "data": {
      "text/plain": [
       "array([2, 3, 4, 1])"
      ]
     },
     "execution_count": 29,
     "metadata": {},
     "output_type": "execute_result"
    }
   ],
   "source": [
    "rfe.ranking_"
   ]
  },
  {
   "cell_type": "code",
   "execution_count": 30,
   "metadata": {},
   "outputs": [
    {
     "data": {
      "text/plain": [
       "[('const', False, 2), ('GPA', False, 3), ('TUCE', False, 4), ('PSI', True, 1)]"
      ]
     },
     "execution_count": 30,
     "metadata": {},
     "output_type": "execute_result"
    }
   ],
   "source": [
    "z = zip(X.columns, rfe.support_, rfe.ranking_)\n",
    "z = list(z)\n",
    "z"
   ]
  },
  {
   "cell_type": "markdown",
   "metadata": {},
   "source": [
    "Las variables más importantes para predecir la calificación son: PSI, GPA y la constante. "
   ]
  },
  {
   "cell_type": "code",
   "execution_count": 32,
   "metadata": {},
   "outputs": [],
   "source": [
    "X = data[[\"GPA\",\"PSI\"]]\n",
    "X = sm.add_constant(X)"
   ]
  },
  {
   "cell_type": "code",
   "execution_count": 33,
   "metadata": {},
   "outputs": [
    {
     "data": {
      "text/plain": [
       "0.8125"
      ]
     },
     "execution_count": 33,
     "metadata": {},
     "output_type": "execute_result"
    }
   ],
   "source": [
    "sk_logit = LogisticRegression().fit(X, Y)\n",
    "\n",
    "#R cuadrada\n",
    "sk_logit.score(X,Y)"
   ]
  },
  {
   "cell_type": "code",
   "execution_count": 34,
   "metadata": {},
   "outputs": [
    {
     "data": {
      "text/html": [
       "<div>\n",
       "<style scoped>\n",
       "    .dataframe tbody tr th:only-of-type {\n",
       "        vertical-align: middle;\n",
       "    }\n",
       "\n",
       "    .dataframe tbody tr th {\n",
       "        vertical-align: top;\n",
       "    }\n",
       "\n",
       "    .dataframe thead th {\n",
       "        text-align: right;\n",
       "    }\n",
       "</style>\n",
       "<table border=\"1\" class=\"dataframe\">\n",
       "  <thead>\n",
       "    <tr style=\"text-align: right;\">\n",
       "      <th></th>\n",
       "      <th>Variables</th>\n",
       "      <th>Coef</th>\n",
       "    </tr>\n",
       "  </thead>\n",
       "  <tbody>\n",
       "    <tr>\n",
       "      <th>0</th>\n",
       "      <td>const</td>\n",
       "      <td>[-0.8873227060465951]</td>\n",
       "    </tr>\n",
       "    <tr>\n",
       "      <th>1</th>\n",
       "      <td>GPA</td>\n",
       "      <td>[0.2520660384223032]</td>\n",
       "    </tr>\n",
       "    <tr>\n",
       "      <th>2</th>\n",
       "      <td>PSI</td>\n",
       "      <td>[0.9872760191869184]</td>\n",
       "    </tr>\n",
       "  </tbody>\n",
       "</table>\n",
       "</div>"
      ],
      "text/plain": [
       "  Variables                   Coef\n",
       "0     const  [-0.8873227060465951]\n",
       "1       GPA   [0.2520660384223032]\n",
       "2       PSI   [0.9872760191869184]"
      ]
     },
     "execution_count": 34,
     "metadata": {},
     "output_type": "execute_result"
    }
   ],
   "source": [
    "#Coeficientes:\n",
    "coeficientes = list( zip( X.columns, np.transpose(sk_logit.coef_) ) )\n",
    "coeficientes = pd.DataFrame(coeficientes, columns=[\"Variables\", \"Coef\"])\n",
    "coeficientes"
   ]
  },
  {
   "cell_type": "code",
   "execution_count": 35,
   "metadata": {},
   "outputs": [
    {
     "data": {
      "text/html": [
       "<table class=\"simpletable\">\n",
       "<caption>Logit Regression Results</caption>\n",
       "<tr>\n",
       "  <th>Dep. Variable:</th>   <td>calificación</td>   <th>  No. Observations:  </th>  <td>    32</td>  \n",
       "</tr>\n",
       "<tr>\n",
       "  <th>Model:</th>               <td>Logit</td>      <th>  Df Residuals:      </th>  <td>    29</td>  \n",
       "</tr>\n",
       "<tr>\n",
       "  <th>Method:</th>               <td>MLE</td>       <th>  Df Model:          </th>  <td>     2</td>  \n",
       "</tr>\n",
       "<tr>\n",
       "  <th>Date:</th>          <td>Sun, 26 Jul 2020</td> <th>  Pseudo R-squ.:     </th>  <td>0.3625</td>  \n",
       "</tr>\n",
       "<tr>\n",
       "  <th>Time:</th>              <td>21:37:13</td>     <th>  Log-Likelihood:    </th> <td> -13.127</td> \n",
       "</tr>\n",
       "<tr>\n",
       "  <th>converged:</th>           <td>True</td>       <th>  LL-Null:           </th> <td> -20.592</td> \n",
       "</tr>\n",
       "<tr>\n",
       "  <th> </th>                      <td> </td>        <th>  LLR p-value:       </th> <td>0.0005727</td>\n",
       "</tr>\n",
       "</table>\n",
       "<table class=\"simpletable\">\n",
       "<tr>\n",
       "    <td></td>       <th>coef</th>     <th>std err</th>      <th>z</th>      <th>P>|z|</th>  <th>[0.025</th>    <th>0.975]</th>  \n",
       "</tr>\n",
       "<tr>\n",
       "  <th>const</th> <td>  -11.6016</td> <td>    4.213</td> <td>   -2.754</td> <td> 0.006</td> <td>  -19.859</td> <td>   -3.344</td>\n",
       "</tr>\n",
       "<tr>\n",
       "  <th>GPA</th>   <td>    3.0634</td> <td>    1.223</td> <td>    2.505</td> <td> 0.012</td> <td>    0.667</td> <td>    5.460</td>\n",
       "</tr>\n",
       "<tr>\n",
       "  <th>PSI</th>   <td>    2.3378</td> <td>    1.041</td> <td>    2.246</td> <td> 0.025</td> <td>    0.298</td> <td>    4.378</td>\n",
       "</tr>\n",
       "</table>"
      ],
      "text/plain": [
       "<class 'statsmodels.iolib.summary.Summary'>\n",
       "\"\"\"\n",
       "                           Logit Regression Results                           \n",
       "==============================================================================\n",
       "Dep. Variable:           calificación   No. Observations:                   32\n",
       "Model:                          Logit   Df Residuals:                       29\n",
       "Method:                           MLE   Df Model:                            2\n",
       "Date:                Sun, 26 Jul 2020   Pseudo R-squ.:                  0.3625\n",
       "Time:                        21:37:13   Log-Likelihood:                -13.127\n",
       "converged:                       True   LL-Null:                       -20.592\n",
       "                                        LLR p-value:                 0.0005727\n",
       "==============================================================================\n",
       "                 coef    std err          z      P>|z|      [0.025      0.975]\n",
       "------------------------------------------------------------------------------\n",
       "const        -11.6016      4.213     -2.754      0.006     -19.859      -3.344\n",
       "GPA            3.0634      1.223      2.505      0.012       0.667       5.460\n",
       "PSI            2.3378      1.041      2.246      0.025       0.298       4.378\n",
       "==============================================================================\n",
       "\"\"\""
      ]
     },
     "execution_count": 35,
     "metadata": {},
     "output_type": "execute_result"
    }
   ],
   "source": [
    "#imprimir el resumen del modelo con statsmodels para comparación\n",
    "model2.summary()"
   ]
  },
  {
   "cell_type": "markdown",
   "metadata": {},
   "source": [
    "###### Conclusiones:\n",
    "El model de regresión logística es uno de los más comunes y utilizados. Es importante siempre profundizar en las matemáticas detras del modelo, como los supuestos, el método de newton-raphson que se utiliza en el modelo logit y la máxima verosimilitud.\n",
    "\n",
    "En el ejemplo realizado, solamente se pudo calcular el 36% de las calificaciones dado que la relación entre las variables era muy leve.\n",
    "\n",
    "### Fuentes:\n",
    "- Ferre Jaén M. E. (2019) FEIR 45: Regresión logística. Apuntes del curso FEIR3, curso 2014/15 actualizados. Extraído el 30 de junio de 2020 de: http://gauss.inf.um.es/feir/45/\n",
    "- Gujarati & Porter (2010) El modelo logit (cap. 15 Modelos de regresión de respuesta cualitativa) . Econometría (5ta Edición). McGraw-Hill Education. Ciduad de México.\n",
    "- Tavares E. (2017) Variance Inflation Factor (VIF) Explained. Extraído el 30 de junio de 2020 de: https://etav.github.io/python/vif_factor_python.html"
   ]
  }
 ],
 "metadata": {
  "kernelspec": {
   "display_name": "Python 3",
   "language": "python",
   "name": "python3"
  },
  "language_info": {
   "codemirror_mode": {
    "name": "ipython",
    "version": 3
   },
   "file_extension": ".py",
   "mimetype": "text/x-python",
   "name": "python",
   "nbconvert_exporter": "python",
   "pygments_lexer": "ipython3",
   "version": "3.6.5"
  }
 },
 "nbformat": 4,
 "nbformat_minor": 2
}
