{
 "cells": [
  {
   "cell_type": "markdown",
   "metadata": {},
   "source": [
    "<h1 style=\"color: darkblue\">Regresión Lineal</h1>"
   ]
  },
  {
   "cell_type": "markdown",
   "metadata": {},
   "source": [
    "#### Introducción.\n",
    "\n",
    "Cuando se tiene una serie de datos que siguen una tendencia en específico, se puede\n",
    "modelar una ecuación lineal, polinomial, logarítmica, de varias variables, etc. que\n",
    "sirva para explicar y hacer inferencias son los datos observados.\n",
    "\n",
    "<img src=\"Images/rlineal.PNG\">\n",
    "\n",
    "El método que generalmente se usa para estimar este tipo de ecuaciones, los\n",
    "modelos de regresión, es el método de mínimos cuadrados. Se llama así ya que\n",
    "busca minimizar el cuadrado de la distancia entre los datos observados y su\n",
    "ecuación.\n",
    "Para un modelo lineal, como el que se observa en las figuras superiores, se desea\n",
    "estimar una función del tipo:\n",
    "\n",
    "### $$y = \\beta_0 + \\beta_1 x + \\epsilon_i$$\n",
    "\n",
    "Donde 𝑦 es la variable dependiente que se desea explicar en términos de 𝑥, 𝛽0 es el\n",
    "intercepto de la función lineal o el valor que se espera de 𝑦 cuando 𝑥 = 0. 𝛽1 mide\n",
    "el cambio en 𝑦 dado un cambio en 𝑥. Por último, 𝜖 son los errores o residuos que se\n",
    "dan con la diferencia entre el modelo estimado y los datos reales.\n",
    "Entonces, para hacer un ajuste lineal, se deben encontrar los valores de $𝛽_0, 𝛽_1$ que\n",
    "satisfagan:\n",
    "\n",
    ">$y_1 = \\beta_0 + \\beta_1 x_1$\n",
    ">\n",
    ">$y_2 = \\beta_0 + \\beta_1 x_2$\n",
    ">\n",
    ">$\\vdots$\n",
    ">\n",
    ">$y_n = \\beta_0 + \\beta_1 x_n$\n",
    "\n",
    "Donde $𝑥_1, 𝑥_2, … , 𝑥_𝑛$ & $𝑦_1, 𝑦_2, … , 𝑦_𝑛$ corresponden a los puntos que se busca ajustar\n",
    "mediante el modelo.\n",
    "\n",
    "En términos de matrices se puede expresar como:\n",
    "\n",
    "$Y = \\begin{bmatrix} y_1 \\\\ y_2 \\\\ \\vdots \\\\ y_n \\end{bmatrix}$, \n",
    "$A = \\begin{bmatrix} 1 \\space x_1 \\\\ 1 \\space x_2 \\\\ \\vdots \\\\ 1 \\space x_n \\end{bmatrix}$,\n",
    "$X = \\begin{bmatrix} \\beta_0 \\\\ \\beta_1 \\end{bmatrix}$\n",
    "\n",
    "Entonces:\n",
    "#### $Y = AX$\n",
    "\n",
    "Como se desea despejar $X = \\begin{bmatrix} \\beta_0 \\\\ \\beta_1 \\end{bmatrix}$\n",
    "> $Y=AX$\n",
    ">\n",
    "> $AX = Y$\n",
    ">\n",
    "> $A^T AX = A^T Y$\n",
    ">\n",
    "> $ \\therefore X = (A^T A)^{-1} A^T X$\n",
    "\n",
    "###### Supuestos:\n",
    "- Autocorrelación: los errores no están correlacionados. $\\epsilon_i, \\epsilon_j $ son independientes, $Corr(ij)=0, \\forall \\epsilon_i, \\epsilon_j$\n",
    "- Normalidad de los residuos: los errores siguen una distribución normal. $\\epsilon_i $~$ N(\\mu, \\sigma^2) $\n",
    "- Homocedasticidad u Homogeneidad: La varianza de los errores a lo largo de la curva de regresión estimada es la misma para todos los residuos. $Var(\\epsilon_i) = Var(\\epsilon_j)=\\sigma^2 $\n",
    "\n",
    "Existen muchos otros supuestos para el ajuste de un modelo mediante el método de\n",
    "mínimos cuadrados. Cada uno tiene sus razones de ser y sus implicaciones en caso\n",
    "de que no se cumplan, por ejemplo: si los residuos no se distribuyen de forma\n",
    "normal, no se pueden hacer generalizaciones, es decir, no se pueden hacer\n",
    "inferencias con datos fuera del rango muestral con el que se ajustó el modelo. O\n",
    "también, si la varianza de los errores no es consistente significa que el modelo no\n",
    "está bien ajustado, por lo que se necesitarán más variables o usar un modelo de\n",
    "regresión no lineal (cuadrático, logarítmico, exponencial, etc.).\n",
    "\n",
    "Por lo general, entre más complicado es la ecuación que se busca ajustar, más\n",
    "supuestos se involucran. Además, toda investigación científica tiene sus supuestos\n",
    "propios."
   ]
  },
  {
   "cell_type": "markdown",
   "metadata": {},
   "source": [
    "    "
   ]
  },
  {
   "cell_type": "markdown",
   "metadata": {},
   "source": [
    "## Ejemplo 1.\n",
    "\n",
    "La información estadística obtenida de una muestra de tamaño 12 sobre la relación\n",
    "existente entre la inversión realizada y el rendimiento obtenido expresado en\n",
    "millones de pesos, para explotaciones agrícolas, se muestra en las siguientes variables:"
   ]
  },
  {
   "cell_type": "code",
   "execution_count": 1,
   "metadata": {},
   "outputs": [],
   "source": [
    "#x: inversión, y: rendimiento\n",
    "x = c(11,14,16,15,16,18,20,21,14,20,19,11)\n",
    "y = c(2,3,5,6,5,3,7,10,6,10,5,6)"
   ]
  },
  {
   "cell_type": "markdown",
   "metadata": {},
   "source": [
    "Entonces se desea crear un modelo donde se predigan las ganancias según el\n",
    "volumen de inversión:\n",
    "\n",
    "$$ Rendimiento = \\beta_0 + \\beta_1 (Inversión)+\\epsilon_i $$\n",
    "$$ Y = \\beta_0 + \\beta_1 X+\\epsilon_i $$"
   ]
  },
  {
   "cell_type": "code",
   "execution_count": 2,
   "metadata": {},
   "outputs": [
    {
     "data": {
      "text/plain": [
       "\n",
       "Call:\n",
       "lm(formula = y ~ x)\n",
       "\n",
       "Residuals:\n",
       "    Min      1Q  Median      3Q     Max \n",
       "-3.4581 -1.3816 -0.4581  1.5595  2.7076 \n",
       "\n",
       "Coefficients:\n",
       "            Estimate Std. Error t value Pr(>|t|)  \n",
       "(Intercept)  -1.6823     3.0152  -0.558   0.5892  \n",
       "x             0.4522     0.1819   2.486   0.0322 *\n",
       "---\n",
       "Signif. codes:  0 '***' 0.001 '**' 0.01 '*' 0.05 '.' 0.1 ' ' 1\n",
       "\n",
       "Residual standard error: 2.06 on 10 degrees of freedom\n",
       "Multiple R-squared:  0.382,\tAdjusted R-squared:  0.3202 \n",
       "F-statistic: 6.181 on 1 and 10 DF,  p-value: 0.0322\n"
      ]
     },
     "metadata": {},
     "output_type": "display_data"
    }
   ],
   "source": [
    "#Modelo lineal\n",
    "model = lm(y~x)\n",
    "summary(model)"
   ]
  },
  {
   "cell_type": "markdown",
   "metadata": {},
   "source": [
    "El modelo resultó:\n",
    "$$ Y = -1.6823 + 0.4522 X $$"
   ]
  },
  {
   "cell_type": "markdown",
   "metadata": {},
   "source": [
    "La $𝑅^2$ del modelo es de 0.382, lo cual significa que la ecuación se ajusta solamente\n",
    "al 38.20% de los datos. Esto es una $𝑅^2$ relativamente baja. El modelo en su conjunto\n",
    "tiene un p-valor = 0.0322 asociado al F-Statistic, por lo que si es significativo.\n",
    "$𝛽_1$ = 0.4522 lo que significa que por cada millón de pesos que aumenta la inversión,\n",
    "se esperan rendimientos de 452,200.00 pesos Este coeficiente tiene un p-valor asociado\n",
    "de 0.0322 por lo que significativo a nivel estadístico.\n",
    "Mientras tanto, el intercepto $𝛽_0$ = −1.6823 tiene un p-valor de 0.5892 por lo que\n",
    "existe una gran probabilidad de que no sea significativo y debe ser la razón de\n",
    "porqué la $𝑅^2$ es tan baja."
   ]
  },
  {
   "cell_type": "markdown",
   "metadata": {},
   "source": [
    "Entonces, se puede crear un mejor modelo omitiendo al intercepto:\n",
    "$$ Y = \\beta X+\\epsilon_i $$\n"
   ]
  },
  {
   "cell_type": "code",
   "execution_count": 3,
   "metadata": {},
   "outputs": [
    {
     "data": {
      "text/plain": [
       "\n",
       "Call:\n",
       "lm(formula = y ~ x - 1)\n",
       "\n",
       "Residuals:\n",
       "    Min      1Q  Median      3Q     Max \n",
       "-3.3494 -1.7467 -0.3494  1.3261  2.9451 \n",
       "\n",
       "Coefficients:\n",
       "  Estimate Std. Error t value Pr(>|t|)    \n",
       "x  0.35274    0.03474   10.15 6.34e-07 ***\n",
       "---\n",
       "Signif. codes:  0 '***' 0.001 '**' 0.01 '*' 0.05 '.' 0.1 ' ' 1\n",
       "\n",
       "Residual standard error: 1.994 on 11 degrees of freedom\n",
       "Multiple R-squared:  0.9036,\tAdjusted R-squared:  0.8949 \n",
       "F-statistic: 103.1 on 1 and 11 DF,  p-value: 6.337e-07\n"
      ]
     },
     "metadata": {},
     "output_type": "display_data"
    }
   ],
   "source": [
    "#modelo sin intercepto\n",
    "model2 = lm(y~x-1)\n",
    "summary(model2)"
   ]
  },
  {
   "cell_type": "markdown",
   "metadata": {},
   "source": [
    "$$ Y = 0.352 X $$\n",
    "\n",
    "De entrada, se puede notar que el modelo mejoró bastante. La $𝑅^2$ ahora es de 0.9036,\n",
    "por lo que el modelo se ajusta al 90.36% de los datos. El modelo en su conjunto,\n",
    "como el coeficiente estimado tienen un p-valor menor al 5%.\n",
    "$𝛽$ = 0.3527 significa que por cada millón de pesos que aumente la inversión, se\n",
    "espera un incremento en rendimientos de  352,700.00 pesos. Este coeficiente es menor\n",
    "que en el modelo anterior, pero hay que tener en cuenta que este segundo modelo\n",
    "se ajusta mejor a los datos."
   ]
  },
  {
   "cell_type": "code",
   "execution_count": 4,
   "metadata": {},
   "outputs": [
    {
     "data": {
      "image/png": "[encoded data removed]",
      "text/plain": [
       "Plot with title \"Rendimientos vs Inversión (millones de pesos)\""
      ]
     },
     "metadata": {
      "image/png": {
       "height": 420,
       "width": 420
      },
      "text/plain": {
       "height": 420,
       "width": 420
      }
     },
     "output_type": "display_data"
    }
   ],
   "source": [
    "#Gráfica\n",
    "plot(x,y, main=\"Rendimientos vs Inversión (millones de pesos)\", \n",
    "     col=\"darkred\",\n",
    "     ylab=\"Rendimientos\", \n",
    "     xlab=\"Inversion\")\n",
    "grid()\n",
    "abline(model2, col=\"blue\")"
   ]
  },
  {
   "cell_type": "markdown",
   "metadata": {},
   "source": [
    "###### Calcular la previsión de inversión que se obtendrá con un rendimiento de $1 250 000\n",
    "\n",
    "Para hacer inferencias con este modelo se tiene que hacer un test de normalidad"
   ]
  },
  {
   "cell_type": "code",
   "execution_count": 5,
   "metadata": {},
   "outputs": [
    {
     "data": {
      "text/plain": [
       "\n",
       "\tShapiro-Wilk normality test\n",
       "\n",
       "data:  resid(model2)\n",
       "W = 0.9586, p-value = 0.7637\n"
      ]
     },
     "metadata": {},
     "output_type": "display_data"
    }
   ],
   "source": [
    "#Normalidad\n",
    "shapiro.test(resid(model2))"
   ]
  },
  {
   "cell_type": "markdown",
   "metadata": {},
   "source": [
    "Como se puede observar, existe evidencia\n",
    "estadística para afirmar que los residuos se\n",
    "distribuyen normalmente (p-valor = 0.7637).\n",
    "\n",
    "\n",
    "También, cuando se realizan inferencias con\n",
    "series temporales para invertir, generalmente\n",
    "se asume que el modelo lineal estimado no es estacionario en el periodo estudiado.\n",
    "Es decir, se asume que no hay autocorrelación: los errores del pasado no están\n",
    "relacionados con los del futuro. Para esto, en R se puede importar la librería\n",
    "“lmtest” y efectuar una prueba de Durbin-Watson:"
   ]
  },
  {
   "cell_type": "code",
   "execution_count": 6,
   "metadata": {
    "scrolled": true
   },
   "outputs": [
    {
     "name": "stderr",
     "output_type": "stream",
     "text": [
      "Warning message:\n",
      "\"package 'lmtest' was built under R version 3.6.3\"\n",
      "Loading required package: zoo\n",
      "\n",
      "\n",
      "Attaching package: 'zoo'\n",
      "\n",
      "\n",
      "The following objects are masked from 'package:base':\n",
      "\n",
      "    as.Date, as.Date.numeric\n",
      "\n",
      "\n"
     ]
    },
    {
     "data": {
      "text/plain": [
       "\n",
       "\tDurbin-Watson test\n",
       "\n",
       "data:  model2\n",
       "DW = 1.6595, p-value = 0.2726\n",
       "alternative hypothesis: true autocorrelation is greater than 0\n"
      ]
     },
     "metadata": {},
     "output_type": "display_data"
    }
   ],
   "source": [
    "#libreria para tests en modelos lineales\n",
    "library(lmtest)\n",
    "\n",
    "#Autocorrelación\n",
    "dwtest(model2)"
   ]
  },
  {
   "cell_type": "markdown",
   "metadata": {},
   "source": [
    "Como el p-valor asociado al\n",
    "estadístico Durbin-Watson\n",
    "es superior al 5%, se acepta\n",
    "la hipotesis nula de que los\n",
    "residuos o errores no están\n",
    "correlacionados.\n",
    "\n",
    "\n",
    "Entonces, ya que se comprobaron los supuestos, se puede hacer la predicción:"
   ]
  },
  {
   "cell_type": "code",
   "execution_count": 7,
   "metadata": {},
   "outputs": [
    {
     "data": {
      "text/html": [
       "<strong>x:</strong> 3543637.14531384"
      ],
      "text/latex": [
       "\\textbf{x:} 3543637.14531384"
      ],
      "text/markdown": [
       "**x:** 3543637.14531384"
      ],
      "text/plain": [
       "      x \n",
       "3543637 "
      ]
     },
     "metadata": {},
     "output_type": "display_data"
    }
   ],
   "source": [
    "#Predicción\n",
    "1250000 / model2$coefficients[1]"
   ]
  },
  {
   "cell_type": "markdown",
   "metadata": {},
   "source": [
    "Para tener rendimientos de 1,250,000 pesos se necesitaría una inversión de 3,543,637"
   ]
  },
  {
   "cell_type": "markdown",
   "metadata": {},
   "source": [
    "#### Fuentes:\n",
    "\n",
    "- Ferre Jaén M. E. (2019) Regresión Lineal Simple. Apuntes del curso FEIR3, curso 2014/15 actualizados. Extraído el 22 de julio de 2020 de: http://gauss.inf.um.es/feir/40/#2_regresi%C3%B3n_lineal_simple\n",
    "- Gujarati & Porter (2010) Pruebas de normalidad. Econometría (5ta Edición). McGrawHill Education. Ciudad de México.\n",
    "- R Core Team (2018) R: A language and environment for statistical computing. [Computer Software]. Extraído de https://www.cran.r-project.org/\n",
    "- Teetor P. (2011). General Statistics (Ch. 9) R Cookbook. O’Reilly Media. Sebastopol, CA, USA.\n",
    "- UnADM (s. f.) Herramientas y lenguajes computacionales. Unidad 2. Estadística con R. Clave 05142313. Universidad Abierta y a Distancia de México.\n",
    "- Zill D. G. () Método de los mínimos cuadrados (p. 393-). Matrices (Cap. 7). Matemáticas avanzadas para ingeniería, vol. 1: ecuaciones diferenciales (tercera edición). McGraw-Hill Education. Ciudad de México"
   ]
  }
 ],
 "metadata": {
  "kernelspec": {
   "display_name": "R",
   "language": "R",
   "name": "ir"
  },
  "language_info": {
   "codemirror_mode": "r",
   "file_extension": ".r",
   "mimetype": "text/x-r-source",
   "name": "R",
   "pygments_lexer": "r",
   "version": "3.6.1"
  }
 },
 "nbformat": 4,
 "nbformat_minor": 2
}
