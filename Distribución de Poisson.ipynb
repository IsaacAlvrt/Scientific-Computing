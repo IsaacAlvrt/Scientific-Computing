{
 "cells": [
  {
   "cell_type": "markdown",
   "metadata": {},
   "source": [
    "<h1 style=\"color: #14549C\">Distribución de Poisson</h1>   "
   ]
  },
  {
   "cell_type": "markdown",
   "metadata": {},
   "source": [
    "### Introducción\n",
    "<br>\n",
    "<div style=\"text-align: justify\">\n",
    "Este modelo se utiliza para calcular la probabilidad de que una variable aleatoria discreta $X$ tome un determinado valor $x \\in X$ cuando los eventos aleatorios ocurren en un intervalo continuo de tiempo, longitud o espacio, de un tamaño determinado y se conoce el promedio de ocurrencia de los eventos $\\lambda$.\n",
    "</div>"
   ]
  },
  {
   "cell_type": "markdown",
   "metadata": {},
   "source": [
    "### Definición"
   ]
  },
  {
   "cell_type": "markdown",
   "metadata": {},
   "source": [
    "Se dice que una variable aleatoria Y tiene distribución de probabilidad de Poisson si y\n",
    "sólo si\n",
    "> <h3> $P(x)= \\frac{\\lambda^x \\cdot e^{-\\lambda}}{x!}$ </h3>\n",
    ">\n",
    ">donde:\n",
    "- x: es el valor deseado X.\n",
    "- $\\lambda$: promedio de ocurrencia de X"
   ]
  },
  {
   "cell_type": "markdown",
   "metadata": {},
   "source": [
    "### Media, Varianza y Desviación Estándar"
   ]
  },
  {
   "cell_type": "markdown",
   "metadata": {},
   "source": [
    "> <h4>$\\mu = \\sigma^2 = \\lambda$</h4>\n",
    ">\n",
    "> <h4>$\\sigma=\\sqrt{\\lambda}$</h4>\n",
    ">"
   ]
  },
  {
   "cell_type": "code",
   "execution_count": 2,
   "metadata": {},
   "outputs": [],
   "source": [
    "#Librerias usadas\n",
    "import matplotlib.pyplot as plt\n",
    "import numpy as np\n",
    "import scipy"
   ]
  },
  {
   "cell_type": "markdown",
   "metadata": {},
   "source": [
    "## Ejemplo "
   ]
  },
  {
   "cell_type": "markdown",
   "metadata": {},
   "source": [
    "<div style=\"text-align: justify\">\n",
    "El número de personas por día que llegan a una sala de urgencias tiene una distribución de Poisson con media 5.\n",
    "</div>"
   ]
  },
  {
   "cell_type": "markdown",
   "metadata": {},
   "source": [
    "###### 1.  Calcule la probabilidad de que lleguen 4 personas"
   ]
  },
  {
   "cell_type": "code",
   "execution_count": 3,
   "metadata": {},
   "outputs": [
    {
     "name": "stdout",
     "output_type": "stream",
     "text": [
      "La probabilidad de que lleguen 4 personas es: 0.17547\n"
     ]
    }
   ],
   "source": [
    "#Datos\n",
    "media = 5\n",
    "x = 4\n",
    "\n",
    "#pmf = Probability Mass Function\n",
    "Px = scipy.stats.poisson.pmf(x, media)\n",
    "\n",
    "#Resultado\n",
    "print(\"La probabilidad de que lleguen 4 personas es:\", round(Px, 5))"
   ]
  },
  {
   "cell_type": "markdown",
   "metadata": {},
   "source": [
    "###### 2. Hallar la probabilidad de que cuando mucho lleguen tres personas por día."
   ]
  },
  {
   "cell_type": "markdown",
   "metadata": {},
   "source": [
    "> $P(X \\leq 3) = P(x=0) + P(X=1)+ P(X=2)+P(x=3)$"
   ]
  },
  {
   "cell_type": "code",
   "execution_count": 4,
   "metadata": {},
   "outputs": [
    {
     "name": "stdout",
     "output_type": "stream",
     "text": [
      "La probabilidad de que a lo mucho lleguen 3 personas es: 0.26503\n"
     ]
    }
   ],
   "source": [
    "x = 3\n",
    "\n",
    "#cdf = Comulative Distribution Function\n",
    "Px = scipy.stats.poisson.cdf(x, media)\n",
    "\n",
    "#Resultado\n",
    "print(\"La probabilidad de que a lo mucho lleguen 3 personas es:\", round(Px, 5))"
   ]
  },
  {
   "cell_type": "markdown",
   "metadata": {},
   "source": [
    "###### 3. Hallar la probabilidad de que por lo menos lleguen 8 personas por día"
   ]
  },
  {
   "cell_type": "markdown",
   "metadata": {},
   "source": [
    "> $P(X \\geq 8) = 1 - P(X \\leq 7)$"
   ]
  },
  {
   "cell_type": "code",
   "execution_count": 6,
   "metadata": {},
   "outputs": [
    {
     "name": "stdout",
     "output_type": "stream",
     "text": [
      "La probabilidad de que lleguen por lo menos 8 personas es: 0.13337\n"
     ]
    }
   ],
   "source": [
    "x = 7\n",
    "\n",
    "Px = 1 - scipy.stats.poisson.cdf(x, media)\n",
    "\n",
    "#Resultado\n",
    "print(\"La probabilidad de que lleguen por lo menos 8 personas es:\", round(Px, 5))"
   ]
  },
  {
   "cell_type": "code",
   "execution_count": 37,
   "metadata": {},
   "outputs": [
    {
     "data": {
      "image/png": "[encoded data removed]",
      "text/plain": [
       "<Figure size 576x432 with 1 Axes>"
      ]
     },
     "metadata": {},
     "output_type": "display_data"
    }
   ],
   "source": [
    "#rvs = Random Variates\n",
    "poisson = scipy.stats.poisson.rvs(mu=media, size = 1000)\n",
    "\n",
    "#Gráfica\n",
    "plt.figure(figsize=(8,6))\n",
    "plt.hist(poisson,color=\"lightblue\", bins=30 ,ec=\"green\")\n",
    "plt.title(\"Distribución de Poisson, simulación $n=1000$\")\n",
    "plt.ylabel(\"Frecuencia\")\n",
    "plt.grid()\n",
    "plt.show()"
   ]
  },
  {
   "cell_type": "markdown",
   "metadata": {},
   "source": [
    "### Fuentes:\n",
    "- Scipy.org (2019) scipy.stats.poisson. Consultado el 11 de junio de 2020 de: https://docs.scipy.org/doc/scipy/reference/generated/scipy.stats.poisson.html\n",
    "- Spiegel & Stephens (2009) La distribución de poisson (Cap. 7) Estadística (Serie Schaum, 4ta Edición). CDMX. The McGraw-Hill.\n",
    "- Wackerly, Mendenhall & Scheaffer (2010) La distribución de probabilidad poisson (Cap. 3). Estadística matemática con aplicaciones (7ma Edición). CDMX. Cengage Learning"
   ]
  }
 ],
 "metadata": {
  "kernelspec": {
   "display_name": "Python 3",
   "language": "python",
   "name": "python3"
  },
  "language_info": {
   "codemirror_mode": {
    "name": "ipython",
    "version": 3
   },
   "file_extension": ".py",
   "mimetype": "text/x-python",
   "name": "python",
   "nbconvert_exporter": "python",
   "pygments_lexer": "ipython3",
   "version": "3.6.5"
  }
 },
 "nbformat": 4,
 "nbformat_minor": 2
}
