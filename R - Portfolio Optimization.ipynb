{
 "cells": [
  {
   "cell_type": "markdown",
   "metadata": {},
   "source": [
    "# R - Portfolio Optimization"
   ]
  },
  {
   "cell_type": "code",
   "execution_count": 15,
   "metadata": {},
   "outputs": [
    {
     "name": "stderr",
     "output_type": "stream",
     "text": [
      "\n",
      "Attaching package: 'dplyr'\n",
      "\n",
      "\n",
      "The following objects are masked from 'package:xts':\n",
      "\n",
      "    first, last\n",
      "\n",
      "\n",
      "The following objects are masked from 'package:lubridate':\n",
      "\n",
      "    intersect, setdiff, union\n",
      "\n",
      "\n",
      "The following objects are masked from 'package:stats':\n",
      "\n",
      "    filter, lag\n",
      "\n",
      "\n",
      "The following objects are masked from 'package:base':\n",
      "\n",
      "    intersect, setdiff, setequal, union\n",
      "\n",
      "\n"
     ]
    }
   ],
   "source": [
    "library(tidyquant)\n",
    "library(ggplot2)\n",
    "library(dplyr) #run if R doesn´t support group_by()\n",
    "library(tseries)"
   ]
  },
  {
   "cell_type": "code",
   "execution_count": 16,
   "metadata": {},
   "outputs": [
    {
     "name": "stderr",
     "output_type": "stream",
     "text": [
      "'getSymbols' currently uses auto.assign=TRUE by default, but will\n",
      "use auto.assign=FALSE in 0.5-0. You will still be able to use\n",
      "'loadSymbols' to automatically load data. getOption(\"getSymbols.env\")\n",
      "and getOption(\"getSymbols.auto.assign\") will still be checked for\n",
      "alternate defaults.\n",
      "\n",
      "This message is shown once per session and may be disabled by setting \n",
      "options(\"getSymbols.warning4.0\"=FALSE). See ?getSymbols for details.\n",
      "\n",
      "\n"
     ]
    },
    {
     "name": "stdout",
     "output_type": "stream",
     "text": [
      "time series starts 2000-01-03\n",
      "time series ends   2019-09-30\n",
      "time series starts 2000-01-03\n",
      "time series ends   2019-09-30\n",
      "time series starts 2000-01-03\n",
      "time series ends   2019-09-30\n"
     ]
    }
   ],
   "source": [
    "#tseries data for optimization\n",
    "ibm = get.hist.quote(instrument = \"ibm\", start = \"2000-01-01\", end = \"2019-10-01\", quote = \"Close\")\n",
    "wfc = get.hist.quote(instrument = \"wfc\", start = \"2000-01-01\", end = \"2019-10-01\", quote = \"Close\")\n",
    "msft = get.hist.quote(instrument = \"msft\", start = \"2000-01-01\", end = \"2019-10-01\", quote = \"Close\")"
   ]
  },
  {
   "cell_type": "code",
   "execution_count": 17,
   "metadata": {},
   "outputs": [],
   "source": [
    "#Getting returns by diff() method.\n",
    "ribm = diff(log(ibm))\n",
    "rwfc = diff(log(wfc))\n",
    "rmsft = diff(log(msft))\n",
    "\n",
    "returns = cbind(ribm, rwfc, rmsft)\n",
    "rerurns = na.remove(returns)\n",
    "\n",
    "matriz.covarianzas = cov(returns)"
   ]
  },
  {
   "cell_type": "code",
   "execution_count": 18,
   "metadata": {},
   "outputs": [
    {
     "data": {
      "text/html": [
       "<ol class=list-inline>\n",
       "\t<li>0.323741138397721</li>\n",
       "\t<li>0.25396983369028</li>\n",
       "\t<li>0.422289027911998</li>\n",
       "</ol>\n"
      ],
      "text/latex": [
       "\\begin{enumerate*}\n",
       "\\item 0.323741138397721\n",
       "\\item 0.25396983369028\n",
       "\\item 0.422289027911998\n",
       "\\end{enumerate*}\n"
      ],
      "text/markdown": [
       "1. 0.323741138397721\n",
       "2. 0.25396983369028\n",
       "3. 0.422289027911998\n",
       "\n",
       "\n"
      ],
      "text/plain": [
       "[1] 0.3237411 0.2539698 0.4222890"
      ]
     },
     "metadata": {},
     "output_type": "display_data"
    }
   ],
   "source": [
    "#Portfolio weight = pw\n",
    "portafolio1 = portfolio.optim(returns, covmat = matriz.covarianzas)\n",
    "portafolio1$pw"
   ]
  },
  {
   "cell_type": "code",
   "execution_count": 19,
   "metadata": {},
   "outputs": [],
   "source": [
    "#Monthly returns: IBM, Wells Fargo, Microsoft\n",
    "stock_returns_monthly <- c(\"IBM\", \"WFC\", \"MSFT\") %>%\n",
    "  tq_get(get  = \"stock.prices\",\n",
    "         from = \"2010-01-01\",\n",
    "         to   = \"2019-10-01\") %>%\n",
    "  group_by(symbol) %>%\n",
    "  tq_transmute(select     = adjusted, \n",
    "               mutate_fun = periodReturn, \n",
    "               period     = \"monthly\", \n",
    "               col_rename = \"Ra\")"
   ]
  },
  {
   "cell_type": "code",
   "execution_count": 20,
   "metadata": {},
   "outputs": [],
   "source": [
    "#(Tech) Market returns\n",
    "baseline_returns_monthly <- \"XLK\" %>%\n",
    "  tq_get(get  = \"stock.prices\",\n",
    "         from = \"2010-01-01\",\n",
    "         to   = \"2019-10-01\") %>%\n",
    "  tq_transmute(select     = adjusted, \n",
    "               mutate_fun = periodReturn, \n",
    "               period     = \"monthly\", \n",
    "               col_rename = \"Rb\")"
   ]
  },
  {
   "cell_type": "code",
   "execution_count": 21,
   "metadata": {},
   "outputs": [
    {
     "name": "stderr",
     "output_type": "stream",
     "text": [
      "Ungrouping data frame groups: symbol\n",
      "\n"
     ]
    }
   ],
   "source": [
    "#Sequential index n = 3\n",
    "stock_returns_monthly_multi <- stock_returns_monthly %>%\n",
    "  tq_repeat_df(n = 3)"
   ]
  },
  {
   "cell_type": "code",
   "execution_count": 22,
   "metadata": {},
   "outputs": [],
   "source": [
    "#Weights\n",
    "weights <- c(\n",
    "  0.3237408, 0.2539673, 0.4222919, #Optimal\n",
    "  0.25, 0.50, 0.25,\n",
    "  0.25, 0.25, 0.50\n",
    ")\n",
    "stocks <- c(\"IBM\", \"WFC\", \"MSFT\")\n",
    "weights_table <-  tibble(stocks) %>%\n",
    "  tq_repeat_df(n = 3) %>%\n",
    "  bind_cols(tibble(weights)) %>%\n",
    "  group_by(portfolio)\n",
    "\n",
    "#Expand for portfolio\n",
    "portfolio_returns_monthly_multi <- stock_returns_monthly_multi %>%\n",
    "  tq_portfolio(assets_col  = symbol, \n",
    "               returns_col = Ra, \n",
    "               weights     = weights_table, \n",
    "               col_rename  = \"Ra\")\n",
    "\n",
    "#Merge porfolio and Market\n",
    "RaRb_multiple_portfolio <- left_join(portfolio_returns_monthly_multi, \n",
    "                                     baseline_returns_monthly,\n",
    "                                     by = \"date\")\n"
   ]
  },
  {
   "cell_type": "code",
   "execution_count": 23,
   "metadata": {},
   "outputs": [
    {
     "data": {
      "image/png": "[encoded data removed]",
      "text/plain": [
       "plot without title"
      ]
     },
     "metadata": {
      "image/png": {
       "height": 420,
       "width": 420
      },
      "text/plain": {
       "height": 420,
       "width": 420
      }
     },
     "output_type": "display_data"
    }
   ],
   "source": [
    "#PLOT\n",
    "\n",
    "#Optimal\n",
    "wts <- c(0.3237408, 0.2539673, 0.4222919) \n",
    "\n",
    "#Portfolio Returns\n",
    "portfolio_returns_monthly <- stock_returns_monthly %>%\n",
    "    tq_portfolio(assets_col  = symbol, \n",
    "                 returns_col = Ra, \n",
    "                 weights     = wts, \n",
    "                 col_rename  = \"Ra\")\n",
    "\n",
    "\n",
    "portfolio_returns_monthly %>%\n",
    "    ggplot(aes(x = date, y = Ra)) +\n",
    "    geom_bar(stat = \"identity\", fill = palette_light()[[1]]) +\n",
    "    labs(title = \"Portfolio Returns\",\n",
    "         subtitle = \"32.37% IBM, 25.40% WFL, and 42.23% MSFT\",\n",
    "         caption = \"Shows an above-zero trend meaning positive returns\",\n",
    "         x = \"Year\", y = \"Monthly Returns\") +\n",
    "    geom_smooth(method = \"lm\") +\n",
    "    theme_tq() +\n",
    "    scale_color_tq() +\n",
    "    scale_y_continuous(labels = scales::percent) "
   ]
  },
  {
   "cell_type": "code",
   "execution_count": 24,
   "metadata": {},
   "outputs": [
    {
     "data": {
      "text/html": [
       "<table>\n",
       "<caption>A tibble: 6 × 2</caption>\n",
       "<thead>\n",
       "\t<tr><th scope=col>date</th><th scope=col>investment.growth</th></tr>\n",
       "\t<tr><th scope=col>&lt;date&gt;</th><th scope=col>&lt;dbl&gt;</th></tr>\n",
       "</thead>\n",
       "<tbody>\n",
       "\t<tr><td>2019-04-30</td><td>325933.7</td></tr>\n",
       "\t<tr><td>2019-05-31</td><td>306826.1</td></tr>\n",
       "\t<tr><td>2019-06-28</td><td>331572.0</td></tr>\n",
       "\t<tr><td>2019-07-31</td><td>340209.4</td></tr>\n",
       "\t<tr><td>2019-08-30</td><td>338558.9</td></tr>\n",
       "\t<tr><td>2019-09-30</td><td>348469.8</td></tr>\n",
       "</tbody>\n",
       "</table>\n"
      ],
      "text/latex": [
       "A tibble: 6 × 2\n",
       "\\begin{tabular}{r|ll}\n",
       " date & investment.growth\\\\\n",
       " <date> & <dbl>\\\\\n",
       "\\hline\n",
       "\t 2019-04-30 & 325933.7\\\\\n",
       "\t 2019-05-31 & 306826.1\\\\\n",
       "\t 2019-06-28 & 331572.0\\\\\n",
       "\t 2019-07-31 & 340209.4\\\\\n",
       "\t 2019-08-30 & 338558.9\\\\\n",
       "\t 2019-09-30 & 348469.8\\\\\n",
       "\\end{tabular}\n"
      ],
      "text/markdown": [
       "\n",
       "A tibble: 6 × 2\n",
       "\n",
       "| date &lt;date&gt; | investment.growth &lt;dbl&gt; |\n",
       "|---|---|\n",
       "| 2019-04-30 | 325933.7 |\n",
       "| 2019-05-31 | 306826.1 |\n",
       "| 2019-06-28 | 331572.0 |\n",
       "| 2019-07-31 | 340209.4 |\n",
       "| 2019-08-30 | 338558.9 |\n",
       "| 2019-09-30 | 348469.8 |\n",
       "\n"
      ],
      "text/plain": [
       "  date       investment.growth\n",
       "1 2019-04-30 325933.7         \n",
       "2 2019-05-31 306826.1         \n",
       "3 2019-06-28 331572.0         \n",
       "4 2019-07-31 340209.4         \n",
       "5 2019-08-30 338558.9         \n",
       "6 2019-09-30 348469.8         "
      ]
     },
     "metadata": {},
     "output_type": "display_data"
    },
    {
     "data": {
      "image/png": "[encoded data removed]",
      "text/plain": [
       "plot without title"
      ]
     },
     "metadata": {
      "image/png": {
       "height": 420,
       "width": 420
      },
      "text/plain": {
       "height": 420,
       "width": 420
      }
     },
     "output_type": "display_data"
    }
   ],
   "source": [
    "#Portafolio growth, initial investmente --> PV = $100,000\n",
    "pv = 100000\n",
    "portfolio_growth_monthly <- stock_returns_monthly %>%\n",
    "    tq_portfolio(assets_col   = symbol, \n",
    "                 returns_col  = Ra, \n",
    "                 weights      = wts, \n",
    "                 col_rename   = \"investment.growth\",\n",
    "                 wealth.index = TRUE) %>%\n",
    "    mutate(investment.growth = investment.growth * pv)\n",
    "\n",
    "\n",
    "portfolio_growth_monthly %>%\n",
    "    ggplot(aes(x = date, y = investment.growth)) +\n",
    "    geom_line(size = 2, color = palette_light()[[1]]) +\n",
    "    labs(title = \"Portfolio Growth, Initial investment = $100,000\",\n",
    "         subtitle = \"32.37% IBM, 25.40% WFL, and 42.23% MSFT\",\n",
    "         caption = \"Now we can really visualize performance!\",\n",
    "         x = \"\", y = \"Portfolio Value\") +\n",
    "    geom_smooth(method = \"loess\") +\n",
    "    theme_tq() +\n",
    "    scale_color_tq() +\n",
    "    scale_y_continuous(labels = scales::dollar)\n",
    "tail(portfolio_growth_monthly)"
   ]
  },
  {
   "cell_type": "code",
   "execution_count": 25,
   "metadata": {},
   "outputs": [
    {
     "data": {
      "text/html": [
       "<table>\n",
       "<caption>A grouped_df: 6 × 3</caption>\n",
       "<thead>\n",
       "\t<tr><th scope=col>portfolio</th><th scope=col>date</th><th scope=col>investment.growth</th></tr>\n",
       "\t<tr><th scope=col>&lt;int&gt;</th><th scope=col>&lt;date&gt;</th><th scope=col>&lt;dbl&gt;</th></tr>\n",
       "</thead>\n",
       "<tbody>\n",
       "\t<tr><td>3</td><td>2019-04-30</td><td>355982.1</td></tr>\n",
       "\t<tr><td>3</td><td>2019-05-31</td><td>335764.5</td></tr>\n",
       "\t<tr><td>3</td><td>2019-06-28</td><td>362902.9</td></tr>\n",
       "\t<tr><td>3</td><td>2019-07-31</td><td>371484.3</td></tr>\n",
       "\t<tr><td>3</td><td>2019-08-30</td><td>371332.6</td></tr>\n",
       "\t<tr><td>3</td><td>2019-09-30</td><td>380800.1</td></tr>\n",
       "</tbody>\n",
       "</table>\n"
      ],
      "text/latex": [
       "A grouped_df: 6 × 3\n",
       "\\begin{tabular}{r|lll}\n",
       " portfolio & date & investment.growth\\\\\n",
       " <int> & <date> & <dbl>\\\\\n",
       "\\hline\n",
       "\t 3 & 2019-04-30 & 355982.1\\\\\n",
       "\t 3 & 2019-05-31 & 335764.5\\\\\n",
       "\t 3 & 2019-06-28 & 362902.9\\\\\n",
       "\t 3 & 2019-07-31 & 371484.3\\\\\n",
       "\t 3 & 2019-08-30 & 371332.6\\\\\n",
       "\t 3 & 2019-09-30 & 380800.1\\\\\n",
       "\\end{tabular}\n"
      ],
      "text/markdown": [
       "\n",
       "A grouped_df: 6 × 3\n",
       "\n",
       "| portfolio &lt;int&gt; | date &lt;date&gt; | investment.growth &lt;dbl&gt; |\n",
       "|---|---|---|\n",
       "| 3 | 2019-04-30 | 355982.1 |\n",
       "| 3 | 2019-05-31 | 335764.5 |\n",
       "| 3 | 2019-06-28 | 362902.9 |\n",
       "| 3 | 2019-07-31 | 371484.3 |\n",
       "| 3 | 2019-08-30 | 371332.6 |\n",
       "| 3 | 2019-09-30 | 380800.1 |\n",
       "\n"
      ],
      "text/plain": [
       "  portfolio date       investment.growth\n",
       "1 3         2019-04-30 355982.1         \n",
       "2 3         2019-05-31 335764.5         \n",
       "3 3         2019-06-28 362902.9         \n",
       "4 3         2019-07-31 371484.3         \n",
       "5 3         2019-08-30 371332.6         \n",
       "6 3         2019-09-30 380800.1         "
      ]
     },
     "metadata": {},
     "output_type": "display_data"
    },
    {
     "data": {
      "image/png": "[encoded data removed]",
      "text/plain": [
       "plot without title"
      ]
     },
     "metadata": {
      "image/png": {
       "height": 420,
       "width": 420
      },
      "text/plain": {
       "height": 420,
       "width": 420
      }
     },
     "output_type": "display_data"
    }
   ],
   "source": [
    "#Multiple Portfolios\n",
    "weights <- c(\n",
    "  0.3237408, 0.2539673, 0.4222919, #Optimal\n",
    "  0.25, 0.50, 0.25,\n",
    "  0.25, 0.25, 0.50\n",
    ")\n",
    "stocks <- c(\"IBM\", \"WFC\", \"MSFT\")\n",
    "weights_table <-  tibble(stocks) %>%\n",
    "  tq_repeat_df(n = 3) %>%\n",
    "  bind_cols(tibble(weights)) %>%\n",
    "  group_by(portfolio)\n",
    "\n",
    "\n",
    "portfolio_growth_monthly_multi <- stock_returns_monthly_multi %>%\n",
    "    tq_portfolio(assets_col   = symbol, \n",
    "                 returns_col  = Ra, \n",
    "                 weights      = weights_table, \n",
    "                 col_rename   = \"investment.growth\",\n",
    "                 wealth.index = TRUE) %>%\n",
    "    mutate(investment.growth = investment.growth * pv)\n",
    "\n",
    "portfolio_growth_monthly_multi %>%\n",
    "    ggplot(aes(x = date, y = investment.growth, color = factor(portfolio))) +\n",
    "    geom_line(size = 2) +\n",
    "    labs(title = \"Portfolio Growth, Initial investment = $100,000\",\n",
    "         subtitle = \"Comparing Multiple Portfolios\",\n",
    "         caption = \"\",\n",
    "         x = \"\", y = \"Portfolio Value\",\n",
    "         color = \"Portfolio\") +\n",
    "    geom_smooth(method = \"loess\") +\n",
    "    theme_tq() +\n",
    "    scale_color_tq() +\n",
    "    scale_y_continuous(labels = scales::dollar)\n",
    "tail(portfolio_growth_monthly_multi)"
   ]
  },
  {
   "cell_type": "code",
   "execution_count": null,
   "metadata": {},
   "outputs": [],
   "source": []
  }
 ],
 "metadata": {
  "kernelspec": {
   "display_name": "R",
   "language": "R",
   "name": "ir"
  },
  "language_info": {
   "codemirror_mode": "r",
   "file_extension": ".r",
   "mimetype": "text/x-r-source",
   "name": "R",
   "pygments_lexer": "r",
   "version": "3.6.1"
  }
 },
 "nbformat": 4,
 "nbformat_minor": 2
}
