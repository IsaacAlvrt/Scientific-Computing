{
 "cells": [
  {
   "cell_type": "markdown",
   "metadata": {},
   "source": [
    "<h1 style=\"color:darkblue;\">PCA - Teoría</h1>\n",
    "\n",
    "### Introducción\n",
    "El análisis de componentes principales es una técnica de reducción de dimensionalidad en la cual se toma una matriz de datos y se busca generar una nueva mátriz en la cual se hallen aquellos componentes, ordenados de mayor a menor, que expliquen el máximo de varianza de los datos."
   ]
  },
  {
   "cell_type": "markdown",
   "metadata": {},
   "source": [
    "### Algoritmo\n",
    "La idea intuitiva detrás del algoritmo es bastante simple:\n",
    "- Primeramente, se toma una matriz de datos $D_{m\\times n}$ que tiene $m$ instanscias en $\\mathbb{R}^n$\n",
    "- Se le resta la media de cada columna a $D$, por lo que se obtiene $D'$ correspondiente a los datos centrados\n",
    "- Se obtiene a matriz de covarianza de $D'$, $\\Sigma =$ cov($D'$)\n",
    "- Se calculan los autovalores de $\\Sigma$ de tal manera que $eig(\\Sigma) = \\{ \\Sigma_1, \\Sigma_2,...\\Sigma_n \\}$ se agrupan de mayor a menor segun el orden dado por el autovalor de cada autovector.\n",
    "\n",
    "### Ejemplo\n",
    "nota: los datos corresponden a diversos indicadores de países, pero para el ejemplo no es necesario conocerlos."
   ]
  },
  {
   "cell_type": "code",
   "execution_count": 1,
   "metadata": {},
   "outputs": [],
   "source": [
    "import matplotlib.pyplot as plt\n",
    "import scipy.linalg as la\n",
    "import seaborn as sns\n",
    "import pandas as pd\n",
    "import numpy as np"
   ]
  },
  {
   "cell_type": "code",
   "execution_count": 2,
   "metadata": {},
   "outputs": [
    {
     "data": {
      "text/html": [
       "<div>\n",
       "<style scoped>\n",
       "    .dataframe tbody tr th:only-of-type {\n",
       "        vertical-align: middle;\n",
       "    }\n",
       "\n",
       "    .dataframe tbody tr th {\n",
       "        vertical-align: top;\n",
       "    }\n",
       "\n",
       "    .dataframe thead th {\n",
       "        text-align: right;\n",
       "    }\n",
       "</style>\n",
       "<table border=\"1\" class=\"dataframe\">\n",
       "  <thead>\n",
       "    <tr style=\"text-align: right;\">\n",
       "      <th></th>\n",
       "      <th>X1</th>\n",
       "      <th>X2</th>\n",
       "      <th>X3</th>\n",
       "      <th>X4</th>\n",
       "      <th>X5</th>\n",
       "      <th>X6</th>\n",
       "      <th>X7</th>\n",
       "      <th>X8</th>\n",
       "      <th>X9</th>\n",
       "      <th>X10</th>\n",
       "      <th>X11</th>\n",
       "    </tr>\n",
       "  </thead>\n",
       "  <tbody>\n",
       "    <tr>\n",
       "      <th>0</th>\n",
       "      <td>1.0</td>\n",
       "      <td>30</td>\n",
       "      <td>41</td>\n",
       "      <td>2199</td>\n",
       "      <td>3903</td>\n",
       "      <td>12</td>\n",
       "      <td>94</td>\n",
       "      <td>53</td>\n",
       "      <td>0.0</td>\n",
       "      <td>341</td>\n",
       "      <td>1.2</td>\n",
       "    </tr>\n",
       "    <tr>\n",
       "      <th>1</th>\n",
       "      <td>3.0</td>\n",
       "      <td>124</td>\n",
       "      <td>46</td>\n",
       "      <td>4422</td>\n",
       "      <td>955</td>\n",
       "      <td>6</td>\n",
       "      <td>57</td>\n",
       "      <td>19</td>\n",
       "      <td>0.7</td>\n",
       "      <td>89</td>\n",
       "      <td>0.5</td>\n",
       "    </tr>\n",
       "    <tr>\n",
       "      <th>2</th>\n",
       "      <td>4.3</td>\n",
       "      <td>21</td>\n",
       "      <td>13</td>\n",
       "      <td>133540</td>\n",
       "      <td>91019</td>\n",
       "      <td>96</td>\n",
       "      <td>497</td>\n",
       "      <td>1</td>\n",
       "      <td>0.0</td>\n",
       "      <td>4566</td>\n",
       "      <td>13.1</td>\n",
       "    </tr>\n",
       "    <tr>\n",
       "      <th>3</th>\n",
       "      <td>2.5</td>\n",
       "      <td>34</td>\n",
       "      <td>24</td>\n",
       "      <td>44609</td>\n",
       "      <td>19883</td>\n",
       "      <td>42</td>\n",
       "      <td>180</td>\n",
       "      <td>2</td>\n",
       "      <td>0.8</td>\n",
       "      <td>906</td>\n",
       "      <td>3.0</td>\n",
       "    </tr>\n",
       "    <tr>\n",
       "      <th>4</th>\n",
       "      <td>1.3</td>\n",
       "      <td>22</td>\n",
       "      <td>31</td>\n",
       "      <td>278431</td>\n",
       "      <td>65962</td>\n",
       "      <td>160</td>\n",
       "      <td>1043</td>\n",
       "      <td>22</td>\n",
       "      <td>0.1</td>\n",
       "      <td>1504</td>\n",
       "      <td>3.5</td>\n",
       "    </tr>\n",
       "  </tbody>\n",
       "</table>\n",
       "</div>"
      ],
      "text/plain": [
       "    X1   X2  X3      X4     X5   X6    X7  X8   X9   X10   X11\n",
       "0  1.0   30  41    2199   3903   12    94  53  0.0   341   1.2\n",
       "1  3.0  124  46    4422    955    6    57  19  0.7    89   0.5\n",
       "2  4.3   21  13  133540  91019   96   497   1  0.0  4566  13.1\n",
       "3  2.5   34  24   44609  19883   42   180   2  0.8   906   3.0\n",
       "4  1.3   22  31  278431  65962  160  1043  22  0.1  1504   3.5"
      ]
     },
     "execution_count": 2,
     "metadata": {},
     "output_type": "execute_result"
    }
   ],
   "source": [
    "#Datos\n",
    "D = pd.read_excel(\"Datasets/paises_mundo.xlsx\")\n",
    "D.head()"
   ]
  },
  {
   "cell_type": "code",
   "execution_count": 5,
   "metadata": {},
   "outputs": [
    {
     "data": {
      "text/html": [
       "<div>\n",
       "<style scoped>\n",
       "    .dataframe tbody tr th:only-of-type {\n",
       "        vertical-align: middle;\n",
       "    }\n",
       "\n",
       "    .dataframe tbody tr th {\n",
       "        vertical-align: top;\n",
       "    }\n",
       "\n",
       "    .dataframe thead th {\n",
       "        text-align: right;\n",
       "    }\n",
       "</style>\n",
       "<table border=\"1\" class=\"dataframe\">\n",
       "  <thead>\n",
       "    <tr style=\"text-align: right;\">\n",
       "      <th></th>\n",
       "      <th>X1</th>\n",
       "      <th>X2</th>\n",
       "      <th>X3</th>\n",
       "      <th>X4</th>\n",
       "      <th>X5</th>\n",
       "      <th>X6</th>\n",
       "      <th>X7</th>\n",
       "      <th>X8</th>\n",
       "      <th>X9</th>\n",
       "      <th>X10</th>\n",
       "      <th>X11</th>\n",
       "    </tr>\n",
       "  </thead>\n",
       "  <tbody>\n",
       "    <tr>\n",
       "      <th>0</th>\n",
       "      <td>-0.870833</td>\n",
       "      <td>-9.0625</td>\n",
       "      <td>3.71875</td>\n",
       "      <td>-114388.416667</td>\n",
       "      <td>-65358.322917</td>\n",
       "      <td>-153.125</td>\n",
       "      <td>-415.84375</td>\n",
       "      <td>25.666667</td>\n",
       "      <td>-0.553125</td>\n",
       "      <td>-1513.427083</td>\n",
       "      <td>-3.354167</td>\n",
       "    </tr>\n",
       "    <tr>\n",
       "      <th>1</th>\n",
       "      <td>1.129167</td>\n",
       "      <td>84.9375</td>\n",
       "      <td>8.71875</td>\n",
       "      <td>-112165.416667</td>\n",
       "      <td>-68306.322917</td>\n",
       "      <td>-159.125</td>\n",
       "      <td>-452.84375</td>\n",
       "      <td>-8.333333</td>\n",
       "      <td>0.146875</td>\n",
       "      <td>-1765.427083</td>\n",
       "      <td>-4.054167</td>\n",
       "    </tr>\n",
       "    <tr>\n",
       "      <th>2</th>\n",
       "      <td>2.429167</td>\n",
       "      <td>-18.0625</td>\n",
       "      <td>-24.28125</td>\n",
       "      <td>16952.583333</td>\n",
       "      <td>21757.677083</td>\n",
       "      <td>-69.125</td>\n",
       "      <td>-12.84375</td>\n",
       "      <td>-26.333333</td>\n",
       "      <td>-0.553125</td>\n",
       "      <td>2711.572917</td>\n",
       "      <td>8.545833</td>\n",
       "    </tr>\n",
       "    <tr>\n",
       "      <th>3</th>\n",
       "      <td>0.629167</td>\n",
       "      <td>-5.0625</td>\n",
       "      <td>-13.28125</td>\n",
       "      <td>-71978.416667</td>\n",
       "      <td>-49378.322917</td>\n",
       "      <td>-123.125</td>\n",
       "      <td>-329.84375</td>\n",
       "      <td>-25.333333</td>\n",
       "      <td>0.246875</td>\n",
       "      <td>-948.427083</td>\n",
       "      <td>-1.554167</td>\n",
       "    </tr>\n",
       "    <tr>\n",
       "      <th>4</th>\n",
       "      <td>-0.570833</td>\n",
       "      <td>-17.0625</td>\n",
       "      <td>-6.28125</td>\n",
       "      <td>161843.583333</td>\n",
       "      <td>-3299.322917</td>\n",
       "      <td>-5.125</td>\n",
       "      <td>533.15625</td>\n",
       "      <td>-5.333333</td>\n",
       "      <td>-0.453125</td>\n",
       "      <td>-350.427083</td>\n",
       "      <td>-1.054167</td>\n",
       "    </tr>\n",
       "  </tbody>\n",
       "</table>\n",
       "</div>"
      ],
      "text/plain": [
       "         X1       X2        X3             X4            X5       X6  \\\n",
       "0 -0.870833  -9.0625   3.71875 -114388.416667 -65358.322917 -153.125   \n",
       "1  1.129167  84.9375   8.71875 -112165.416667 -68306.322917 -159.125   \n",
       "2  2.429167 -18.0625 -24.28125   16952.583333  21757.677083  -69.125   \n",
       "3  0.629167  -5.0625 -13.28125  -71978.416667 -49378.322917 -123.125   \n",
       "4 -0.570833 -17.0625  -6.28125  161843.583333  -3299.322917   -5.125   \n",
       "\n",
       "          X7         X8        X9          X10       X11  \n",
       "0 -415.84375  25.666667 -0.553125 -1513.427083 -3.354167  \n",
       "1 -452.84375  -8.333333  0.146875 -1765.427083 -4.054167  \n",
       "2  -12.84375 -26.333333 -0.553125  2711.572917  8.545833  \n",
       "3 -329.84375 -25.333333  0.246875  -948.427083 -1.554167  \n",
       "4  533.15625  -5.333333 -0.453125  -350.427083 -1.054167  "
      ]
     },
     "execution_count": 5,
     "metadata": {},
     "output_type": "execute_result"
    }
   ],
   "source": [
    "#datos centrados - Dp = D' --> \"D prima\"\n",
    "Dp = D - D.mean()\n",
    "Dp.head()"
   ]
  },
  {
   "cell_type": "code",
   "execution_count": 6,
   "metadata": {},
   "outputs": [],
   "source": [
    "#Matriz de Covarianza\n",
    "Sigma = Dp.cov() "
   ]
  },
  {
   "cell_type": "code",
   "execution_count": 9,
   "metadata": {},
   "outputs": [],
   "source": [
    "#Autovalores y Autovectores\n",
    "eigvals, eigvecs = la.eig(Sigma)"
   ]
  },
  {
   "cell_type": "code",
   "execution_count": 11,
   "metadata": {},
   "outputs": [],
   "source": [
    "#Auto vectores y datos centrados \n",
    "t_eigvecs = eigvecs.T\n",
    "t_Dp = Dp.T"
   ]
  },
  {
   "cell_type": "code",
   "execution_count": 14,
   "metadata": {},
   "outputs": [],
   "source": [
    "#Componentes principales\n",
    "pca = t_eigvecs.dot(t_Dp)\n",
    "pca = pca.T"
   ]
  },
  {
   "cell_type": "code",
   "execution_count": 17,
   "metadata": {},
   "outputs": [],
   "source": [
    "#Tabla de PCA\n",
    "cols = [\"P1\",\"P2\",\"P3\",\"P4\",\"P5\",\"P6\",\"P7\",\"P8\",\"P9\",\"P10\",\"P11\"]\n",
    "PCA = pd.DataFrame(data=pca, columns=cols)"
   ]
  },
  {
   "cell_type": "code",
   "execution_count": 18,
   "metadata": {},
   "outputs": [
    {
     "name": "stdout",
     "output_type": "stream",
     "text": [
      "P1     0.90345\n",
      "P2     0.09647\n",
      "P3     0.00007\n",
      "P4     0.00000\n",
      "P5     0.00000\n",
      "P6     0.00000\n",
      "P7     0.00000\n",
      "P8     0.00000\n",
      "P9     0.00000\n",
      "P10    0.00000\n",
      "P11    0.00000\n",
      "dtype: float64\n"
     ]
    }
   ],
   "source": [
    "#Proporcion de varianza explicada\n",
    "prop_var = PCA.var() / sum(PCA.var())\n",
    "print(round(prop_var,5))"
   ]
  },
  {
   "cell_type": "markdown",
   "metadata": {},
   "source": [
    "> En este caso el primer componente explica el 90% de la varianza y el segundo el 9.65%"
   ]
  },
  {
   "cell_type": "code",
   "execution_count": 22,
   "metadata": {},
   "outputs": [
    {
     "data": {
      "image/png": "[encoded data removed]",
      "text/plain": [
       "<Figure size 1080x360 with 2 Axes>"
      ]
     },
     "metadata": {},
     "output_type": "display_data"
    }
   ],
   "source": [
    "plt.figure(figsize=(15,5))\n",
    "plt.suptitle(\"Componentes\")\n",
    "\n",
    "plt.subplot(121)\n",
    "plt.bar(cols,prop_var)\n",
    "plt.xlabel(\"Componente Principal\")\n",
    "plt.ylabel(\"Varianza explicada\")\n",
    "plt.grid(alpha=0.5)\n",
    "\n",
    "plt.subplot(122)\n",
    "plt.plot(np.linspace(1,11,11), prop_var, color=\"red\")\n",
    "plt.xlabel(\"Componente Principal\")\n",
    "plt.ylabel(\"Varianza explicada\")\n",
    "plt.grid(alpha=0.5)"
   ]
  },
  {
   "cell_type": "code",
   "execution_count": 25,
   "metadata": {},
   "outputs": [
    {
     "data": {
      "text/plain": [
       "P1     0.903454\n",
       "P2     0.999927\n",
       "P3     0.999995\n",
       "P4     1.000000\n",
       "P5     1.000000\n",
       "P6     1.000000\n",
       "P7     1.000000\n",
       "P8     1.000000\n",
       "P9     1.000000\n",
       "P10    1.000000\n",
       "P11    1.000000\n",
       "dtype: float64"
      ]
     },
     "execution_count": 25,
     "metadata": {},
     "output_type": "execute_result"
    }
   ],
   "source": [
    "#proporcion de varianza acumulada\n",
    "cum_var = prop_var.cumsum()\n",
    "cum_var"
   ]
  },
  {
   "cell_type": "code",
   "execution_count": 28,
   "metadata": {},
   "outputs": [],
   "source": [
    "#PCA con sklearn\n",
    "from sklearn.decomposition import PCA as skPCA"
   ]
  },
  {
   "cell_type": "code",
   "execution_count": 30,
   "metadata": {},
   "outputs": [],
   "source": [
    "sk_pca = skPCA(n_components=11).fit(D)"
   ]
  },
  {
   "cell_type": "code",
   "execution_count": 34,
   "metadata": {},
   "outputs": [
    {
     "data": {
      "image/png": "[encoded data removed]",
      "text/plain": [
       "<Figure size 1080x360 with 2 Axes>"
      ]
     },
     "metadata": {},
     "output_type": "display_data"
    }
   ],
   "source": [
    "plt.figure(figsize=(15,5))\n",
    "\n",
    "plt.subplot(121)\n",
    "plt.plot(np.linspace(1,11,11), sk_pca.explained_variance_ratio_, color=\"red\")\n",
    "plt.title(\"sklear\")\n",
    "plt.xlabel(\"Componente Principal\")\n",
    "plt.ylabel(\"Varianza explicada\")\n",
    "plt.grid(alpha=0.5)\n",
    "\n",
    "plt.subplot(122)\n",
    "plt.plot(np.linspace(1,11,11), prop_var, color=\"red\")\n",
    "plt.title(\"My model\")\n",
    "plt.xlabel(\"Componente Principal\")\n",
    "plt.ylabel(\"Varianza explicada\")\n",
    "plt.grid(alpha=0.5)"
   ]
  },
  {
   "cell_type": "code",
   "execution_count": 37,
   "metadata": {},
   "outputs": [
    {
     "name": "stdout",
     "output_type": "stream",
     "text": [
      "P1     0.0\n",
      "P2     0.0\n",
      "P3    -0.0\n",
      "P4     0.0\n",
      "P5     0.0\n",
      "P6    -0.0\n",
      "P7    -0.0\n",
      "P8    -0.0\n",
      "P9     0.0\n",
      "P10    0.0\n",
      "P11   -0.0\n",
      "dtype: float64\n"
     ]
    }
   ],
   "source": [
    "#Diferencia entre los calculos paso a paso y sklearn\n",
    "error = sk_pca.explained_variance_ratio_ - prop_var\n",
    "print(round(error,6))"
   ]
  },
  {
   "cell_type": "markdown",
   "metadata": {},
   "source": [
    "> Finalmente, el modelo casi desde cero en Python resultó bastante similar al modelo de sklearn"
   ]
  },
  {
   "cell_type": "markdown",
   "metadata": {},
   "source": [
    "###### Fuentes:\n",
    "- Amat Rodrigo (2017) Análisis de Componentes Principales (Principal Component Analysis, PCA) y t-SNE. Extraído el 09 de septiembre 2020 de: https://www.cienciadedatos.net/documentos/35_principal_component_analysis\n",
    "- Baillo Moreno & Grane Chavez (2008) 100 problemas de estadistica multivariante (Implementados en Matlab). Delta, Publicaciones Universitarias. Primera Edición. Madrid España. \n",
    "- VanderPlas J. (s.f.) In Depth: Principal Component Analysis.  Python Data Science Handbook. Extraído el 09 de septiembre 2020 de: https://jakevdp.github.io/PythonDataScienceHandbook/05.09-principal-component-analysis.html\n",
    "- UnADM (s.f.) Unidad 2 Minería de Datos. Computación II. Universidad Abierta y a Distancia de México. Clave 05142423/06142423"
   ]
  }
 ],
 "metadata": {
  "kernelspec": {
   "display_name": "Python 3",
   "language": "python",
   "name": "python3"
  },
  "language_info": {
   "codemirror_mode": {
    "name": "ipython",
    "version": 3
   },
   "file_extension": ".py",
   "mimetype": "text/x-python",
   "name": "python",
   "nbconvert_exporter": "python",
   "pygments_lexer": "ipython3",
   "version": "3.6.5"
  }
 },
 "nbformat": 4,
 "nbformat_minor": 2
}
