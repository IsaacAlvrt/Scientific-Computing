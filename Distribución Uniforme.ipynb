{
 "cells": [
  {
   "cell_type": "markdown",
   "metadata": {},
   "source": [
    "<h1 style=\"color: #14549C\">Distribución Uniforme</h1>   "
   ]
  },
  {
   "cell_type": "markdown",
   "metadata": {},
   "source": [
    "### Introducción\n",
    "<br>\n",
    "<div style=\"text-align: justify\">\n",
    "Cuando en un intervalo continuo de tiempo, espacio, masa, etc. la frecuencia relativa de una variable aleatoria es aproximadamente la misma, se dice que se sigue un modelo de distribución uniforme.\n",
    "</div>"
   ]
  },
  {
   "cell_type": "markdown",
   "metadata": {},
   "source": [
    "### Definición\n",
    "Si $a < b$, se dice que una variable aleatoria $X$ tiene distribución de probabilidad uniforme en el intervalo (a, b) si y sólo si la función de densidad de X es:\n",
    "> <h3> $f(x) \\Bigg\\{ \\begin{matrix} \\frac{1}{b-a},& a \\leq x \\leq b \\\\ 0,& x<a \\space \\And \\space x>b \\end{matrix}$ </h3>"
   ]
  },
  {
   "cell_type": "markdown",
   "metadata": {},
   "source": [
    "### Propiedades\n",
    "- <h3>$f(x) \\geq 0$ </h3> (La función no puede tener valores o probabilidades negativas).\n",
    "- <h3>$ \\int_{-\\infty}^\\infty f(x) dx = 1$ </h3> (La área total debajo de la curva de $f(x)$ debe ser 1 (100%)."
   ]
  },
  {
   "cell_type": "markdown",
   "metadata": {},
   "source": [
    "### Media y Varianza\n",
    "> $\\mu = \\frac{a+b}{2}$\n",
    ">\n",
    "> $\\sigma^2 = \\frac{(b-a)^2}{12}$"
   ]
  },
  {
   "cell_type": "code",
   "execution_count": 1,
   "metadata": {},
   "outputs": [],
   "source": [
    "#Librerias usadas\n",
    "import matplotlib.pyplot as plt\n",
    "import numpy as np\n",
    "import scipy\n",
    "from scipy import integrate"
   ]
  },
  {
   "cell_type": "markdown",
   "metadata": {},
   "source": [
    "## Ejemplo 1\n",
    "La llegada de clientes a una caja en un establecimiento sigue una distribución uniforme.\n",
    "Se sabe que durante un periodo determinado de 30 minutos, un cliente llega a la caja. Encuentre\n",
    "la probabilidad de que el cliente llegue durante los últimos 5 minutos del periodo de 30\n",
    "minutos."
   ]
  },
  {
   "cell_type": "markdown",
   "metadata": {},
   "source": [
    "Como el periodo es de 30 mins en una distribución uniforme, la función de probabilidad es:\n",
    "\n",
    "> <h3> $f(x) \\Bigg\\{ \\begin{matrix} \\frac{1}{30},& 0 \\leq x \\leq 30 \\\\ 0,& x<0 \\space \\And \\space x>30 \\end{matrix}$ </h3>\n",
    "\n",
    "Por lo que la probabilidad de que un cliente llegue durante los últimos 5 mins es:\n",
    "\n",
    "> $\\int_{25}^{30} \\frac{1}{30} dx = \\frac{x}{30} \\Bigg\\vert \\begin{matrix} 30 \\\\ 25 \\end{matrix} $"
   ]
  },
  {
   "cell_type": "code",
   "execution_count": 5,
   "metadata": {},
   "outputs": [
    {
     "name": "stdout",
     "output_type": "stream",
     "text": [
      "La probabilidad de que llegue un cliente en los últimos 5 mins es: 0.16667\n"
     ]
    }
   ],
   "source": [
    "#función e integral\n",
    "f = lambda x: 1/30\n",
    "I = integrate.quad(f,25,30)\n",
    "print(\"La probabilidad de que llegue un cliente en los últimos 5 mins es:\", round(I[0],5))"
   ]
  },
  {
   "cell_type": "code",
   "execution_count": 10,
   "metadata": {},
   "outputs": [
    {
     "data": {
      "image/png": "[encoded data removed]",
      "text/plain": [
       "<Figure size 576x432 with 1 Axes>"
      ]
     },
     "metadata": {},
     "output_type": "display_data"
    }
   ],
   "source": [
    "#Gráfica\n",
    "a = np.linspace(0,30,1000)\n",
    "b = np.repeat(1/30, 1000)\n",
    "plt.figure(figsize=(8,6))\n",
    "plt.plot(a, b, color=\"orange\", label=\"f(x)\")\n",
    "plt.title(\"Distribución Uniforme\")\n",
    "plt.fill_between(a, f(a), where=[(a>25) for a in a], alpha=0.2, color=\"blue\", label=\"tiempo > 25 mins\")\n",
    "plt.xlabel(\"Tiempo en minutos\")\n",
    "plt.ylabel(\"f(x)\")\n",
    "plt.legend()\n",
    "plt.grid()\n",
    "plt.show()"
   ]
  },
  {
   "cell_type": "markdown",
   "metadata": {},
   "source": [
    "### Fuentes:\n",
    "- Scipy.org (2019) scipy.integrate.quad. Extraído el 11 de junio de 2020 de: https://docs.scipy.org/doc/scipy/reference/generated/scipy.integrate.quad.html\n",
    "- Wackerly, Mendenhall & Scheaffer (2010) La distribución de probabilidad uniforme (Cap. 3). Estadística matemática con aplicaciones (7ma Edición). CDMX. Cengage Learning"
   ]
  }
 ],
 "metadata": {
  "kernelspec": {
   "display_name": "Python 3",
   "language": "python",
   "name": "python3"
  },
  "language_info": {
   "codemirror_mode": {
    "name": "ipython",
    "version": 3
   },
   "file_extension": ".py",
   "mimetype": "text/x-python",
   "name": "python",
   "nbconvert_exporter": "python",
   "pygments_lexer": "ipython3",
   "version": "3.6.5"
  }
 },
 "nbformat": 4,
 "nbformat_minor": 2
}
